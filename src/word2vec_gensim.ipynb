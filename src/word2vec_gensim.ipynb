{
 "cells": [
  {
   "cell_type": "markdown",
   "metadata": {},
   "source": [
    "## Content\n",
    "1. [Load data](#1.-Load-data)  \n",
    "2. [Diving into data](#2.-Diving-into-data)  \n",
    "3. [Data preprocessing](#3.-Data-preprocessing)  \n",
    "4. [Training word2vec model](#4.-Training-word2vec-model)  "
   ]
  },
  {
   "cell_type": "code",
   "execution_count": 1,
   "metadata": {
    "collapsed": true
   },
   "outputs": [],
   "source": [
    "import numpy as np\n",
    "import pandas as pd\n",
    "\n",
    "from pprint import pprint\n",
    "from tqdm import tqdm\n",
    "\n",
    "IN_PATH = '../data/'\n",
    "WORD_EMBEDDINGS_PATH = '../word_embeddings/'\n",
    "MAX_NR_OF_COMMENTS = None\n",
    "target_classes = ['toxic', 'severe_toxic', 'obscene', 'threat', 'insult', 'identity_hate']"
   ]
  },
  {
   "cell_type": "markdown",
   "metadata": {},
   "source": [
    "## 1. Load data"
   ]
  },
  {
   "cell_type": "code",
   "execution_count": 2,
   "metadata": {
    "collapsed": true
   },
   "outputs": [],
   "source": [
    "train_df = pd.read_csv(IN_PATH + 'train.csv', encoding='utf8')\n",
    "test_df = pd.read_csv(IN_PATH + 'test.csv', encoding='utf8')"
   ]
  },
  {
   "cell_type": "code",
   "execution_count": 3,
   "metadata": {},
   "outputs": [],
   "source": [
    "if MAX_NR_OF_COMMENTS is not None:\n",
    "    print('MAX_NR_OF_COMMENTS: {}'.format(MAX_NR_OF_COMMENTS))\n",
    "    train_df = train_df.head(MAX_NR_OF_COMMENTS)\n",
    "    test_df = test_df.head(MAX_NR_OF_COMMENTS)"
   ]
  },
  {
   "cell_type": "markdown",
   "metadata": {},
   "source": [
    "## 2. Diving into data"
   ]
  },
  {
   "cell_type": "markdown",
   "metadata": {},
   "source": [
    "### 2.1 General info"
   ]
  },
  {
   "cell_type": "code",
   "execution_count": 4,
   "metadata": {},
   "outputs": [
    {
     "name": "stdout",
     "output_type": "stream",
     "text": [
      "                 id                                       comment_text  toxic  \\\n",
      "0  0000997932d777bf  Explanation\\nWhy the edits made under my usern...      0   \n",
      "1  000103f0d9cfb60f  D'aww! He matches this background colour I'm s...      0   \n",
      "2  000113f07ec002fd  Hey man, I'm really not trying to edit war. It...      0   \n",
      "3  0001b41b1c6bb37e  \"\\nMore\\nI can't make any real suggestions on ...      0   \n",
      "4  0001d958c54c6e35  You, sir, are my hero. Any chance you remember...      0   \n",
      "\n",
      "   severe_toxic  obscene  threat  insult  identity_hate  \n",
      "0             0        0       0       0              0  \n",
      "1             0        0       0       0              0  \n",
      "2             0        0       0       0              0  \n",
      "3             0        0       0       0              0  \n",
      "4             0        0       0       0              0  \n"
     ]
    }
   ],
   "source": [
    "print(train_df[0:5])"
   ]
  },
  {
   "cell_type": "code",
   "execution_count": 5,
   "metadata": {},
   "outputs": [
    {
     "name": "stdout",
     "output_type": "stream",
     "text": [
      "Explanation\n",
      "Why the edits made under my username Hardcore Metallica Fan were reverted? They weren't vandalisms, just closure on some GAs after I voted at New York Dolls FAC. And please don't remove the template from the talk page since I'm retired now.89.205.38.27\n"
     ]
    }
   ],
   "source": [
    "comment = train_df['comment_text'][0]\n",
    "print(comment)"
   ]
  },
  {
   "cell_type": "code",
   "execution_count": 6,
   "metadata": {},
   "outputs": [
    {
     "name": "stdout",
     "output_type": "stream",
     "text": [
      "<type 'unicode'>\n"
     ]
    }
   ],
   "source": [
    "print(type(comment))"
   ]
  },
  {
   "cell_type": "code",
   "execution_count": 7,
   "metadata": {},
   "outputs": [
    {
     "name": "stdout",
     "output_type": "stream",
     "text": [
      "(159571, 8)\n",
      "(153164, 2)\n"
     ]
    }
   ],
   "source": [
    "print(train_df.shape)\n",
    "print(test_df.shape)"
   ]
  },
  {
   "cell_type": "markdown",
   "metadata": {},
   "source": [
    "### 2.2 Data distribution"
   ]
  },
  {
   "cell_type": "code",
   "execution_count": 8,
   "metadata": {
    "collapsed": true
   },
   "outputs": [],
   "source": [
    "def comments_lengths_char(df):\n",
    "    return [len(comment) for comment in df['comment_text']]"
   ]
  },
  {
   "cell_type": "code",
   "execution_count": 9,
   "metadata": {
    "collapsed": true
   },
   "outputs": [],
   "source": [
    "train_comments_lengths_chars = comments_lengths_char(train_df)\n",
    "test_comments_lengths_chars = comments_lengths_char(test_df)"
   ]
  },
  {
   "cell_type": "code",
   "execution_count": 10,
   "metadata": {
    "collapsed": true
   },
   "outputs": [],
   "source": [
    "from nltk.tokenize import WordPunctTokenizer\n",
    "word_punct_tokenizer = WordPunctTokenizer()\n",
    "\n",
    "def comments_lengths_words(df):\n",
    "    lengths = list()\n",
    "    words = list()\n",
    "    n = 0\n",
    "    \n",
    "    for comment in df['comment_text']:\n",
    "        words.append([])\n",
    "        comment_length = 0\n",
    "        \n",
    "        for word in word_punct_tokenizer.tokenize(comment):\n",
    "            if word.isalpha():\n",
    "                comment_length += 1\n",
    "                words[n].append(word)\n",
    "                \n",
    "        lengths.append(comment_length)\n",
    "        n += 1\n",
    "        \n",
    "    return (lengths, words)"
   ]
  },
  {
   "cell_type": "code",
   "execution_count": 11,
   "metadata": {
    "collapsed": true
   },
   "outputs": [],
   "source": [
    "(train_comments_lengths_words, train_comment_words) = comments_lengths_words(train_df)\n",
    "(test_comments_lengths_words, test_comment_words) = comments_lengths_words(test_df)"
   ]
  },
  {
   "cell_type": "code",
   "execution_count": 12,
   "metadata": {},
   "outputs": [
    {
     "name": "stdout",
     "output_type": "stream",
     "text": [
      "[u'Explanation', u'Why', u'the', u'edits', u'made', u'under', u'my', u'username', u'Hardcore', u'Metallica', u'Fan', u'were', u'reverted', u'?', u'They', u'weren', u\"'\", u't', u'vandalisms', u',', u'just', u'closure', u'on', u'some', u'GAs', u'after', u'I', u'voted', u'at', u'New', u'York', u'Dolls', u'FAC', u'.', u'And', u'please', u'don', u\"'\", u't', u'remove', u'the', u'template', u'from', u'the', u'talk', u'page', u'since', u'I', u\"'\", u'm', u'retired', u'now', u'.', u'89', u'.', u'205', u'.', u'38', u'.', u'27']\n",
      "[u'Explanation', u'Why', u'the', u'edits', u'made', u'under', u'my', u'username', u'Hardcore', u'Metallica', u'Fan', u'were', u'reverted', u'They', u'weren', u't', u'vandalisms', u'just', u'closure', u'on', u'some', u'GAs', u'after', u'I', u'voted', u'at', u'New', u'York', u'Dolls', u'FAC', u'And', u'please', u'don', u't', u'remove', u'the', u'template', u'from', u'the', u'talk', u'page', u'since', u'I', u'm', u'retired', u'now']\n"
     ]
    }
   ],
   "source": [
    "comment_0_words = word_punct_tokenizer.tokenize(train_df['comment_text'][0])\n",
    "filtered_comment_0_words = train_comment_words[0]\n",
    "\n",
    "print(comment_0_words)\n",
    "print(filtered_comment_0_words)"
   ]
  },
  {
   "cell_type": "code",
   "execution_count": 13,
   "metadata": {
    "collapsed": true
   },
   "outputs": [],
   "source": [
    "def show_hists(x_train, x_test, values_name=''):\n",
    "    fig, axs = plt.subplots(1, 2)\n",
    "    plt.subplots_adjust(wspace=0.6)\n",
    "    \n",
    "    axs[0].hist(x_train)\n",
    "    axs[0].set_xlabel('number of ' + values_name)\n",
    "    axs[0].set_ylabel('frequency')\n",
    "    axs[0].set_title('train set')\n",
    "    \n",
    "    axs[1].hist(x_test)\n",
    "    axs[1].set_xlabel('number of ' + values_name)\n",
    "    axs[1].set_ylabel('frequency')\n",
    "    axs[1].set_title('test set')"
   ]
  },
  {
   "cell_type": "code",
   "execution_count": 14,
   "metadata": {
    "collapsed": true
   },
   "outputs": [],
   "source": [
    "%matplotlib inline\n",
    "import matplotlib.pyplot as plt"
   ]
  },
  {
   "cell_type": "code",
   "execution_count": 15,
   "metadata": {},
   "outputs": [
    {
     "data": {
      "image/png": "[encoded data removed]",
      "text/plain": [
       "<matplotlib.figure.Figure at 0x7f3befb8e590>"
      ]
     },
     "metadata": {},
     "output_type": "display_data"
    }
   ],
   "source": [
    "show_hists(train_comments_lengths_chars, test_comments_lengths_chars, 'chars')"
   ]
  },
  {
   "cell_type": "code",
   "execution_count": 16,
   "metadata": {},
   "outputs": [
    {
     "data": {
      "image/png": "[encoded data removed]",
      "text/plain": [
       "<matplotlib.figure.Figure at 0x7f3be7d9f2d0>"
      ]
     },
     "metadata": {},
     "output_type": "display_data"
    }
   ],
   "source": [
    "show_hists(train_comments_lengths_words, test_comments_lengths_words, 'words')"
   ]
  },
  {
   "cell_type": "markdown",
   "metadata": {},
   "source": [
    "## 3. Data preprocessing"
   ]
  },
  {
   "cell_type": "markdown",
   "metadata": {},
   "source": [
    "### 3.1 Tokenize-filter-lower"
   ]
  },
  {
   "cell_type": "code",
   "execution_count": 17,
   "metadata": {
    "collapsed": true
   },
   "outputs": [],
   "source": [
    "def tokenize_filter_lower(df):\n",
    "    words = list()\n",
    "    n = 0\n",
    "    \n",
    "    for comment in df['comment_text']:\n",
    "        words.append([])        \n",
    "        for word in word_punct_tokenizer.tokenize(comment):\n",
    "            if word.isalpha():\n",
    "                words[n].append(word.lower())\n",
    "        n += 1\n",
    "        \n",
    "    return words"
   ]
  },
  {
   "cell_type": "code",
   "execution_count": 18,
   "metadata": {
    "collapsed": true
   },
   "outputs": [],
   "source": [
    "train_tokens = tokenize_filter_lower(train_df)\n",
    "test_tokens = tokenize_filter_lower(test_df)"
   ]
  },
  {
   "cell_type": "code",
   "execution_count": 19,
   "metadata": {},
   "outputs": [
    {
     "name": "stdout",
     "output_type": "stream",
     "text": [
      "[u'explanation',\n",
      " u'why',\n",
      " u'the',\n",
      " u'edits',\n",
      " u'made',\n",
      " u'under',\n",
      " u'my',\n",
      " u'username',\n",
      " u'hardcore',\n",
      " u'metallica',\n",
      " u'fan',\n",
      " u'were',\n",
      " u'reverted',\n",
      " u'they',\n",
      " u'weren',\n",
      " u't',\n",
      " u'vandalisms',\n",
      " u'just',\n",
      " u'closure',\n",
      " u'on']\n"
     ]
    }
   ],
   "source": [
    "pprint(train_tokens[0][0:20])"
   ]
  },
  {
   "cell_type": "markdown",
   "metadata": {},
   "source": [
    "### 3.2 Lemmatization"
   ]
  },
  {
   "cell_type": "markdown",
   "metadata": {},
   "source": [
    "** Conversion from Penn Treebank tag to a simplified Wordnet tag is taken from ** https://nlpforhackers.io/wordnet-sentence-similarity/"
   ]
  },
  {
   "cell_type": "code",
   "execution_count": 20,
   "metadata": {
    "collapsed": true
   },
   "outputs": [],
   "source": [
    "from nltk import pos_tag\n",
    "from nltk.corpus import wordnet as wn\n",
    "from nltk.stem import WordNetLemmatizer\n",
    "\n",
    "lemmatizer = WordNetLemmatizer()\n",
    "\n",
    "def penn_to_wn(tag):\n",
    "    \"\"\" Convert between a Penn Treebank tag to a simplified Wordnet tag \"\"\"\n",
    "    if tag.startswith('N'):\n",
    "        return 'n'\n",
    " \n",
    "    if tag.startswith('V'):\n",
    "        return 'v'\n",
    " \n",
    "    if tag.startswith('J'):\n",
    "        return 'a'\n",
    " \n",
    "    if tag.startswith('R'):\n",
    "        return 'r'\n",
    " \n",
    "    return 'v'\n",
    "\n",
    "def lemmatization(tokens):   \n",
    "    lemmas = list()\n",
    "    n = 0\n",
    "    pbar = tqdm(total=len(tokens))\n",
    "    \n",
    "    for token_row in tokens:\n",
    "        lemmas.append([])\n",
    "        for token in token_row:\n",
    "            penn_tag = pos_tag([token])[0][1]\n",
    "            wn_tag = penn_to_wn(penn_tag)\n",
    "            lemma = lemmatizer.lemmatize(token, pos=wn_tag)\n",
    "            lemmas[n].append(lemma)\n",
    "        n += 1\n",
    "        if n % 1000 == 0:\n",
    "            pbar.update(1000)\n",
    "    \n",
    "    pbar.update(len(tokens) - 1000 * int(len(tokens)/1000))\n",
    "    pbar.close()    \n",
    "        \n",
    "    return lemmas"
   ]
  },
  {
   "cell_type": "code",
   "execution_count": 21,
   "metadata": {},
   "outputs": [
    {
     "name": "stderr",
     "output_type": "stream",
     "text": [
      "100%|██████████| 159571/159571 [19:35<00:00, 135.52it/s]\n",
      "100%|██████████| 153164/153164 [17:02<00:00, 142.35it/s]\n"
     ]
    }
   ],
   "source": [
    "train_lemmas = lemmatization(train_tokens)\n",
    "test_lemmas = lemmatization(test_tokens)"
   ]
  },
  {
   "cell_type": "code",
   "execution_count": 22,
   "metadata": {},
   "outputs": [
    {
     "data": {
      "text/plain": [
       "[u'explanation',\n",
       " u'why',\n",
       " u'the',\n",
       " u'edits',\n",
       " u'make',\n",
       " u'under',\n",
       " u'my',\n",
       " u'username',\n",
       " u'hardcore',\n",
       " u'metallica',\n",
       " u'fan',\n",
       " u'be',\n",
       " u'revert',\n",
       " u'they',\n",
       " u'weren',\n",
       " u't',\n",
       " u'vandalism',\n",
       " u'just',\n",
       " u'closure',\n",
       " u'on']"
      ]
     },
     "execution_count": 22,
     "metadata": {},
     "output_type": "execute_result"
    }
   ],
   "source": [
    "train_lemmas[0][0:20]"
   ]
  },
  {
   "cell_type": "markdown",
   "metadata": {},
   "source": [
    "### 3.3 Stopwords elimination"
   ]
  },
  {
   "cell_type": "code",
   "execution_count": 23,
   "metadata": {
    "collapsed": true
   },
   "outputs": [],
   "source": [
    "from nltk.corpus import stopwords\n",
    "stopwords_set = set(stopwords.words('english'))\n",
    "\n",
    "def remove_stopwords(tokens):\n",
    "    filtered_tokens = [token for token in tokens if token not in set(stopwords_set)]   \n",
    "    return filtered_tokens\n",
    "\n",
    "def stopwords_elimination(comments):\n",
    "    return [remove_stopwords(comment) for comment in comments]"
   ]
  },
  {
   "cell_type": "code",
   "execution_count": 24,
   "metadata": {},
   "outputs": [],
   "source": [
    "train_preprocessed = stopwords_elimination(train_lemmas)\n",
    "test_preprocessed = stopwords_elimination(test_lemmas)"
   ]
  },
  {
   "cell_type": "code",
   "execution_count": 25,
   "metadata": {},
   "outputs": [
    {
     "name": "stdout",
     "output_type": "stream",
     "text": [
      "[u'explanation',\n",
      " u'edits',\n",
      " u'make',\n",
      " u'username',\n",
      " u'hardcore',\n",
      " u'metallica',\n",
      " u'fan',\n",
      " u'revert',\n",
      " u'vandalism',\n",
      " u'closure',\n",
      " u'gas',\n",
      " u'vote',\n",
      " u'new',\n",
      " u'york',\n",
      " u'doll',\n",
      " u'fac',\n",
      " u'please',\n",
      " u'remove',\n",
      " u'template',\n",
      " u'talk',\n",
      " u'page',\n",
      " u'since',\n",
      " u'retire']\n"
     ]
    }
   ],
   "source": [
    "pprint(train_preprocessed[0])"
   ]
  },
  {
   "cell_type": "markdown",
   "metadata": {},
   "source": [
    "## 4. Training word2vec model\n",
    "A good tutorial can be found here: https://rare-technologies.com/word2vec-tutorial/  \n",
    "Good link: https://radimrehurek.com/gensim/models/word2vec.html"
   ]
  },
  {
   "cell_type": "code",
   "execution_count": 26,
   "metadata": {
    "collapsed": true
   },
   "outputs": [],
   "source": [
    "import gensim, logging\n",
    "logging.basicConfig(format='%(asctime)s : %(levelname)s : %(message)s', level=logging.INFO)"
   ]
  },
  {
   "cell_type": "code",
   "execution_count": 27,
   "metadata": {
    "collapsed": true
   },
   "outputs": [],
   "source": [
    "model_sg = 1\n",
    "model_size = 200\n",
    "model_min_count = 2\n",
    "model_negative = 10\n",
    "model_window = 10"
   ]
  },
  {
   "cell_type": "code",
   "execution_count": 28,
   "metadata": {},
   "outputs": [
    {
     "name": "stderr",
     "output_type": "stream",
     "text": [
      "2018-05-16 18:57:30,896 : INFO : collecting all words and their counts\n",
      "2018-05-16 18:57:30,897 : INFO : PROGRESS: at sentence #0, processed 0 words, keeping 0 word types\n",
      "2018-05-16 18:57:31,034 : INFO : PROGRESS: at sentence #10000, processed 688925 words, keeping 42375 word types\n",
      "2018-05-16 18:57:31,171 : INFO : PROGRESS: at sentence #20000, processed 1366359 words, keeping 63569 word types\n",
      "2018-05-16 18:57:31,292 : INFO : PROGRESS: at sentence #30000, processed 2030874 words, keeping 80498 word types\n",
      "2018-05-16 18:57:31,426 : INFO : PROGRESS: at sentence #40000, processed 2720130 words, keeping 95520 word types\n",
      "2018-05-16 18:57:31,566 : INFO : PROGRESS: at sentence #50000, processed 3388878 words, keeping 108511 word types\n",
      "2018-05-16 18:57:31,717 : INFO : PROGRESS: at sentence #60000, processed 4092316 words, keeping 121111 word types\n",
      "2018-05-16 18:57:31,857 : INFO : PROGRESS: at sentence #70000, processed 4773127 words, keeping 132764 word types\n",
      "2018-05-16 18:57:31,995 : INFO : PROGRESS: at sentence #80000, processed 5453460 words, keeping 143495 word types\n",
      "2018-05-16 18:57:32,127 : INFO : PROGRESS: at sentence #90000, processed 6115212 words, keeping 153241 word types\n",
      "2018-05-16 18:57:32,248 : INFO : PROGRESS: at sentence #100000, processed 6788915 words, keeping 162820 word types\n",
      "2018-05-16 18:57:32,377 : INFO : PROGRESS: at sentence #110000, processed 7481748 words, keeping 172319 word types\n",
      "2018-05-16 18:57:32,521 : INFO : PROGRESS: at sentence #120000, processed 8137293 words, keeping 181166 word types\n",
      "2018-05-16 18:57:32,658 : INFO : PROGRESS: at sentence #130000, processed 8810209 words, keeping 189625 word types\n",
      "2018-05-16 18:57:32,787 : INFO : PROGRESS: at sentence #140000, processed 9491159 words, keeping 198074 word types\n",
      "2018-05-16 18:57:32,925 : INFO : PROGRESS: at sentence #150000, processed 10174681 words, keeping 206357 word types\n",
      "2018-05-16 18:57:33,062 : INFO : PROGRESS: at sentence #160000, processed 10845492 words, keeping 214459 word types\n",
      "2018-05-16 18:57:33,192 : INFO : PROGRESS: at sentence #170000, processed 11467185 words, keeping 228337 word types\n",
      "2018-05-16 18:57:33,309 : INFO : PROGRESS: at sentence #180000, processed 12084853 words, keeping 242148 word types\n",
      "2018-05-16 18:57:33,434 : INFO : PROGRESS: at sentence #190000, processed 12698247 words, keeping 253686 word types\n",
      "2018-05-16 18:57:33,559 : INFO : PROGRESS: at sentence #200000, processed 13314243 words, keeping 265891 word types\n",
      "2018-05-16 18:57:33,675 : INFO : PROGRESS: at sentence #210000, processed 13917519 words, keeping 278122 word types\n",
      "2018-05-16 18:57:33,804 : INFO : PROGRESS: at sentence #220000, processed 14536158 words, keeping 289113 word types\n",
      "2018-05-16 18:57:33,923 : INFO : PROGRESS: at sentence #230000, processed 15153254 words, keeping 300808 word types\n",
      "2018-05-16 18:57:34,052 : INFO : PROGRESS: at sentence #240000, processed 15768553 words, keeping 314527 word types\n",
      "2018-05-16 18:57:34,161 : INFO : PROGRESS: at sentence #250000, processed 16383145 words, keeping 325494 word types\n",
      "2018-05-16 18:57:34,283 : INFO : PROGRESS: at sentence #260000, processed 16991306 words, keeping 335843 word types\n",
      "2018-05-16 18:57:34,386 : INFO : PROGRESS: at sentence #270000, processed 17600753 words, keeping 345559 word types\n",
      "2018-05-16 18:57:34,511 : INFO : PROGRESS: at sentence #280000, processed 18223573 words, keeping 357035 word types\n",
      "2018-05-16 18:57:34,638 : INFO : PROGRESS: at sentence #290000, processed 18837387 words, keeping 366966 word types\n",
      "2018-05-16 18:57:34,756 : INFO : PROGRESS: at sentence #300000, processed 19438137 words, keeping 376618 word types\n",
      "2018-05-16 18:57:34,882 : INFO : PROGRESS: at sentence #310000, processed 20067528 words, keeping 387186 word types\n",
      "2018-05-16 18:57:34,919 : INFO : collected 390037 word types from a corpus of 20244573 raw words and 312735 sentences\n",
      "2018-05-16 18:57:34,920 : INFO : Loading a fresh vocabulary\n",
      "2018-05-16 18:57:35,312 : INFO : min_count=2 retains 172058 unique words (44% of original 390037, drops 217979)\n",
      "2018-05-16 18:57:35,313 : INFO : min_count=2 leaves 20026594 word corpus (98% of original 20244573, drops 217979)\n",
      "2018-05-16 18:57:35,673 : INFO : deleting the raw counts dictionary of 390037 items\n",
      "2018-05-16 18:57:35,684 : INFO : sample=0.001 downsamples 42 most-common words\n",
      "2018-05-16 18:57:35,684 : INFO : downsampling leaves estimated 15845619 word corpus (79.1% of prior 20026594)\n",
      "2018-05-16 18:57:36,137 : INFO : estimated required memory for 172058 words and 200 dimensions: 361321800 bytes\n",
      "2018-05-16 18:57:36,137 : INFO : resetting layer weights\n",
      "2018-05-16 18:57:37,642 : INFO : training model with 5 workers on 172058 vocabulary and 200 features, using sg=1 hs=0 sample=0.001 negative=10 window=10\n",
      "2018-05-16 18:57:38,788 : INFO : EPOCH 1 - PROGRESS: at 0.52% examples, 74515 words/s, in_qsize 10, out_qsize 0\n",
      "2018-05-16 18:57:39,848 : INFO : EPOCH 1 - PROGRESS: at 1.11% examples, 83998 words/s, in_qsize 10, out_qsize 0\n",
      "2018-05-16 18:57:41,049 : INFO : EPOCH 1 - PROGRESS: at 1.77% examples, 87983 words/s, in_qsize 9, out_qsize 0\n",
      "2018-05-16 18:57:42,134 : INFO : EPOCH 1 - PROGRESS: at 2.45% examples, 92304 words/s, in_qsize 10, out_qsize 0\n",
      "2018-05-16 18:57:43,144 : INFO : EPOCH 1 - PROGRESS: at 3.09% examples, 94627 words/s, in_qsize 10, out_qsize 0\n",
      "2018-05-16 18:57:44,223 : INFO : EPOCH 1 - PROGRESS: at 3.71% examples, 95572 words/s, in_qsize 10, out_qsize 0\n",
      "2018-05-16 18:57:45,224 : INFO : EPOCH 1 - PROGRESS: at 4.45% examples, 99251 words/s, in_qsize 9, out_qsize 0\n",
      "2018-05-16 18:57:46,249 : INFO : EPOCH 1 - PROGRESS: at 5.11% examples, 100011 words/s, in_qsize 10, out_qsize 0\n",
      "2018-05-16 18:57:47,288 : INFO : EPOCH 1 - PROGRESS: at 5.78% examples, 100428 words/s, in_qsize 10, out_qsize 0\n",
      "2018-05-16 18:57:48,315 : INFO : EPOCH 1 - PROGRESS: at 6.49% examples, 101559 words/s, in_qsize 10, out_qsize 0\n",
      "2018-05-16 18:57:49,352 : INFO : EPOCH 1 - PROGRESS: at 7.22% examples, 102414 words/s, in_qsize 10, out_qsize 0\n",
      "2018-05-16 18:57:50,418 : INFO : EPOCH 1 - PROGRESS: at 7.99% examples, 103575 words/s, in_qsize 10, out_qsize 0\n",
      "2018-05-16 18:57:51,426 : INFO : EPOCH 1 - PROGRESS: at 8.67% examples, 103939 words/s, in_qsize 8, out_qsize 0\n",
      "2018-05-16 18:57:52,648 : INFO : EPOCH 1 - PROGRESS: at 9.41% examples, 103680 words/s, in_qsize 10, out_qsize 0\n",
      "2018-05-16 18:57:53,889 : INFO : EPOCH 1 - PROGRESS: at 10.24% examples, 104362 words/s, in_qsize 9, out_qsize 1\n",
      "2018-05-16 18:57:54,896 : INFO : EPOCH 1 - PROGRESS: at 11.01% examples, 105944 words/s, in_qsize 9, out_qsize 0\n",
      "2018-05-16 18:57:55,897 : INFO : EPOCH 1 - PROGRESS: at 11.64% examples, 106014 words/s, in_qsize 8, out_qsize 0\n",
      "2018-05-16 18:57:57,037 : INFO : EPOCH 1 - PROGRESS: at 12.34% examples, 105766 words/s, in_qsize 10, out_qsize 0\n",
      "2018-05-16 18:57:58,063 : INFO : EPOCH 1 - PROGRESS: at 12.96% examples, 105429 words/s, in_qsize 9, out_qsize 0\n",
      "2018-05-16 18:57:59,141 : INFO : EPOCH 1 - PROGRESS: at 13.75% examples, 106215 words/s, in_qsize 9, out_qsize 0\n",
      "2018-05-16 18:58:00,175 : INFO : EPOCH 1 - PROGRESS: at 14.50% examples, 106543 words/s, in_qsize 9, out_qsize 0\n",
      "2018-05-16 18:58:01,184 : INFO : EPOCH 1 - PROGRESS: at 15.17% examples, 106511 words/s, in_qsize 10, out_qsize 0\n",
      "2018-05-16 18:58:02,192 : INFO : EPOCH 1 - PROGRESS: at 15.80% examples, 106512 words/s, in_qsize 9, out_qsize 0\n",
      "2018-05-16 18:58:03,234 : INFO : EPOCH 1 - PROGRESS: at 16.44% examples, 106406 words/s, in_qsize 9, out_qsize 0\n",
      "2018-05-16 18:58:04,240 : INFO : EPOCH 1 - PROGRESS: at 17.01% examples, 106153 words/s, in_qsize 10, out_qsize 0\n",
      "2018-05-16 18:58:05,279 : INFO : EPOCH 1 - PROGRESS: at 17.63% examples, 106064 words/s, in_qsize 9, out_qsize 0\n",
      "2018-05-16 18:58:06,405 : INFO : EPOCH 1 - PROGRESS: at 18.35% examples, 106259 words/s, in_qsize 10, out_qsize 0\n",
      "2018-05-16 18:58:07,477 : INFO : EPOCH 1 - PROGRESS: at 19.05% examples, 106323 words/s, in_qsize 10, out_qsize 0\n",
      "2018-05-16 18:58:08,527 : INFO : EPOCH 1 - PROGRESS: at 19.69% examples, 106231 words/s, in_qsize 10, out_qsize 0\n",
      "2018-05-16 18:58:09,542 : INFO : EPOCH 1 - PROGRESS: at 20.40% examples, 106735 words/s, in_qsize 9, out_qsize 0\n",
      "2018-05-16 18:58:10,556 : INFO : EPOCH 1 - PROGRESS: at 21.03% examples, 106752 words/s, in_qsize 9, out_qsize 0\n"
     ]
    },
    {
     "name": "stderr",
     "output_type": "stream",
     "text": [
      "2018-05-16 18:58:11,605 : INFO : EPOCH 1 - PROGRESS: at 21.72% examples, 106653 words/s, in_qsize 9, out_qsize 0\n",
      "2018-05-16 18:58:12,677 : INFO : EPOCH 1 - PROGRESS: at 22.48% examples, 106926 words/s, in_qsize 10, out_qsize 0\n",
      "2018-05-16 18:58:13,791 : INFO : EPOCH 1 - PROGRESS: at 23.20% examples, 106839 words/s, in_qsize 10, out_qsize 1\n",
      "2018-05-16 18:58:14,824 : INFO : EPOCH 1 - PROGRESS: at 23.96% examples, 107188 words/s, in_qsize 9, out_qsize 0\n",
      "2018-05-16 18:58:15,940 : INFO : EPOCH 1 - PROGRESS: at 24.66% examples, 107286 words/s, in_qsize 10, out_qsize 0\n",
      "2018-05-16 18:58:16,963 : INFO : EPOCH 1 - PROGRESS: at 25.37% examples, 107430 words/s, in_qsize 10, out_qsize 0\n",
      "2018-05-16 18:58:18,087 : INFO : EPOCH 1 - PROGRESS: at 26.14% examples, 107519 words/s, in_qsize 10, out_qsize 0\n",
      "2018-05-16 18:58:19,145 : INFO : EPOCH 1 - PROGRESS: at 26.89% examples, 107763 words/s, in_qsize 10, out_qsize 0\n",
      "2018-05-16 18:58:20,206 : INFO : EPOCH 1 - PROGRESS: at 27.60% examples, 107779 words/s, in_qsize 10, out_qsize 0\n",
      "2018-05-16 18:58:21,316 : INFO : EPOCH 1 - PROGRESS: at 28.35% examples, 107880 words/s, in_qsize 10, out_qsize 0\n",
      "2018-05-16 18:58:22,422 : INFO : EPOCH 1 - PROGRESS: at 29.12% examples, 107992 words/s, in_qsize 10, out_qsize 0\n",
      "2018-05-16 18:58:23,500 : INFO : EPOCH 1 - PROGRESS: at 29.84% examples, 107973 words/s, in_qsize 10, out_qsize 0\n",
      "2018-05-16 18:58:24,562 : INFO : EPOCH 1 - PROGRESS: at 30.56% examples, 108170 words/s, in_qsize 10, out_qsize 0\n",
      "2018-05-16 18:58:25,747 : INFO : EPOCH 1 - PROGRESS: at 31.33% examples, 108090 words/s, in_qsize 10, out_qsize 0\n",
      "2018-05-16 18:58:26,843 : INFO : EPOCH 1 - PROGRESS: at 32.14% examples, 108342 words/s, in_qsize 10, out_qsize 0\n",
      "2018-05-16 18:58:27,846 : INFO : EPOCH 1 - PROGRESS: at 32.78% examples, 108343 words/s, in_qsize 9, out_qsize 0\n",
      "2018-05-16 18:58:28,878 : INFO : EPOCH 1 - PROGRESS: at 33.47% examples, 108411 words/s, in_qsize 10, out_qsize 0\n",
      "2018-05-16 18:58:29,921 : INFO : EPOCH 1 - PROGRESS: at 34.14% examples, 108440 words/s, in_qsize 10, out_qsize 0\n",
      "2018-05-16 18:58:31,060 : INFO : EPOCH 1 - PROGRESS: at 34.88% examples, 108464 words/s, in_qsize 9, out_qsize 0\n",
      "2018-05-16 18:58:32,092 : INFO : EPOCH 1 - PROGRESS: at 35.60% examples, 108670 words/s, in_qsize 10, out_qsize 0\n",
      "2018-05-16 18:58:33,260 : INFO : EPOCH 1 - PROGRESS: at 36.40% examples, 108603 words/s, in_qsize 10, out_qsize 0\n",
      "2018-05-16 18:58:34,312 : INFO : EPOCH 1 - PROGRESS: at 37.17% examples, 108755 words/s, in_qsize 10, out_qsize 0\n",
      "2018-05-16 18:58:35,326 : INFO : EPOCH 1 - PROGRESS: at 37.88% examples, 108837 words/s, in_qsize 9, out_qsize 0\n",
      "2018-05-16 18:58:36,326 : INFO : EPOCH 1 - PROGRESS: at 38.56% examples, 108837 words/s, in_qsize 10, out_qsize 0\n",
      "2018-05-16 18:58:37,415 : INFO : EPOCH 1 - PROGRESS: at 39.31% examples, 108907 words/s, in_qsize 9, out_qsize 0\n",
      "2018-05-16 18:58:38,441 : INFO : EPOCH 1 - PROGRESS: at 39.98% examples, 108850 words/s, in_qsize 9, out_qsize 0\n",
      "2018-05-16 18:58:39,545 : INFO : EPOCH 1 - PROGRESS: at 40.71% examples, 108889 words/s, in_qsize 10, out_qsize 0\n",
      "2018-05-16 18:58:40,644 : INFO : EPOCH 1 - PROGRESS: at 41.51% examples, 109067 words/s, in_qsize 10, out_qsize 0\n",
      "2018-05-16 18:58:41,676 : INFO : EPOCH 1 - PROGRESS: at 42.20% examples, 109119 words/s, in_qsize 10, out_qsize 0\n",
      "2018-05-16 18:58:42,709 : INFO : EPOCH 1 - PROGRESS: at 42.88% examples, 109041 words/s, in_qsize 10, out_qsize 0\n",
      "2018-05-16 18:58:43,771 : INFO : EPOCH 1 - PROGRESS: at 43.58% examples, 109045 words/s, in_qsize 9, out_qsize 0\n",
      "2018-05-16 18:58:44,898 : INFO : EPOCH 1 - PROGRESS: at 44.15% examples, 108683 words/s, in_qsize 9, out_qsize 0\n",
      "2018-05-16 18:58:46,056 : INFO : EPOCH 1 - PROGRESS: at 44.86% examples, 108544 words/s, in_qsize 10, out_qsize 0\n",
      "2018-05-16 18:58:47,085 : INFO : EPOCH 1 - PROGRESS: at 45.56% examples, 108600 words/s, in_qsize 10, out_qsize 0\n",
      "2018-05-16 18:58:48,127 : INFO : EPOCH 1 - PROGRESS: at 46.15% examples, 108408 words/s, in_qsize 9, out_qsize 0\n",
      "2018-05-16 18:58:49,166 : INFO : EPOCH 1 - PROGRESS: at 46.89% examples, 108560 words/s, in_qsize 9, out_qsize 0\n",
      "2018-05-16 18:58:50,297 : INFO : EPOCH 1 - PROGRESS: at 47.58% examples, 108455 words/s, in_qsize 9, out_qsize 0\n",
      "2018-05-16 18:58:51,309 : INFO : EPOCH 1 - PROGRESS: at 48.25% examples, 108535 words/s, in_qsize 9, out_qsize 0\n",
      "2018-05-16 18:58:52,311 : INFO : EPOCH 1 - PROGRESS: at 49.02% examples, 108735 words/s, in_qsize 10, out_qsize 0\n",
      "2018-05-16 18:58:53,511 : INFO : EPOCH 1 - PROGRESS: at 49.77% examples, 108538 words/s, in_qsize 10, out_qsize 0\n",
      "2018-05-16 18:58:54,542 : INFO : EPOCH 1 - PROGRESS: at 50.47% examples, 108593 words/s, in_qsize 10, out_qsize 0\n",
      "2018-05-16 18:58:55,697 : INFO : EPOCH 1 - PROGRESS: at 51.15% examples, 108475 words/s, in_qsize 10, out_qsize 0\n",
      "2018-05-16 18:58:56,716 : INFO : EPOCH 1 - PROGRESS: at 51.85% examples, 108443 words/s, in_qsize 9, out_qsize 0\n",
      "2018-05-16 18:58:57,727 : INFO : EPOCH 1 - PROGRESS: at 52.51% examples, 108331 words/s, in_qsize 10, out_qsize 0\n",
      "2018-05-16 18:58:58,860 : INFO : EPOCH 1 - PROGRESS: at 53.28% examples, 108255 words/s, in_qsize 10, out_qsize 0\n",
      "2018-05-16 18:58:59,894 : INFO : EPOCH 1 - PROGRESS: at 54.04% examples, 108315 words/s, in_qsize 10, out_qsize 0\n",
      "2018-05-16 18:59:00,911 : INFO : EPOCH 1 - PROGRESS: at 54.86% examples, 108500 words/s, in_qsize 9, out_qsize 0\n",
      "2018-05-16 18:59:01,918 : INFO : EPOCH 1 - PROGRESS: at 55.56% examples, 108481 words/s, in_qsize 9, out_qsize 0\n",
      "2018-05-16 18:59:02,960 : INFO : EPOCH 1 - PROGRESS: at 56.33% examples, 108531 words/s, in_qsize 9, out_qsize 0\n",
      "2018-05-16 18:59:03,960 : INFO : EPOCH 1 - PROGRESS: at 57.18% examples, 108696 words/s, in_qsize 10, out_qsize 0\n",
      "2018-05-16 18:59:04,983 : INFO : EPOCH 1 - PROGRESS: at 57.90% examples, 108668 words/s, in_qsize 9, out_qsize 0\n",
      "2018-05-16 18:59:06,062 : INFO : EPOCH 1 - PROGRESS: at 58.76% examples, 108747 words/s, in_qsize 10, out_qsize 0\n",
      "2018-05-16 18:59:07,132 : INFO : EPOCH 1 - PROGRESS: at 59.54% examples, 108745 words/s, in_qsize 9, out_qsize 0\n",
      "2018-05-16 18:59:08,134 : INFO : EPOCH 1 - PROGRESS: at 60.33% examples, 108929 words/s, in_qsize 10, out_qsize 0\n",
      "2018-05-16 18:59:09,222 : INFO : EPOCH 1 - PROGRESS: at 61.11% examples, 108914 words/s, in_qsize 10, out_qsize 0\n",
      "2018-05-16 18:59:10,243 : INFO : EPOCH 1 - PROGRESS: at 61.94% examples, 109061 words/s, in_qsize 10, out_qsize 0\n",
      "2018-05-16 18:59:11,249 : INFO : EPOCH 1 - PROGRESS: at 62.66% examples, 109048 words/s, in_qsize 9, out_qsize 0\n",
      "2018-05-16 18:59:12,319 : INFO : EPOCH 1 - PROGRESS: at 63.40% examples, 109043 words/s, in_qsize 10, out_qsize 0\n",
      "2018-05-16 18:59:13,380 : INFO : EPOCH 1 - PROGRESS: at 64.26% examples, 109117 words/s, in_qsize 9, out_qsize 0\n",
      "2018-05-16 18:59:14,511 : INFO : EPOCH 1 - PROGRESS: at 65.16% examples, 109217 words/s, in_qsize 10, out_qsize 0\n",
      "2018-05-16 18:59:15,554 : INFO : EPOCH 1 - PROGRESS: at 65.98% examples, 109316 words/s, in_qsize 10, out_qsize 0\n",
      "2018-05-16 18:59:16,663 : INFO : EPOCH 1 - PROGRESS: at 66.76% examples, 109262 words/s, in_qsize 10, out_qsize 0\n",
      "2018-05-16 18:59:17,667 : INFO : EPOCH 1 - PROGRESS: at 67.56% examples, 109400 words/s, in_qsize 10, out_qsize 0\n",
      "2018-05-16 18:59:18,761 : INFO : EPOCH 1 - PROGRESS: at 68.30% examples, 109358 words/s, in_qsize 10, out_qsize 0\n",
      "2018-05-16 18:59:19,794 : INFO : EPOCH 1 - PROGRESS: at 69.11% examples, 109466 words/s, in_qsize 10, out_qsize 0\n",
      "2018-05-16 18:59:20,930 : INFO : EPOCH 1 - PROGRESS: at 69.95% examples, 109460 words/s, in_qsize 10, out_qsize 0\n",
      "2018-05-16 18:59:21,944 : INFO : EPOCH 1 - PROGRESS: at 70.79% examples, 109589 words/s, in_qsize 9, out_qsize 0\n",
      "2018-05-16 18:59:23,078 : INFO : EPOCH 1 - PROGRESS: at 71.55% examples, 109516 words/s, in_qsize 9, out_qsize 0\n",
      "2018-05-16 18:59:24,112 : INFO : EPOCH 1 - PROGRESS: at 72.39% examples, 109688 words/s, in_qsize 10, out_qsize 0\n",
      "2018-05-16 18:59:25,125 : INFO : EPOCH 1 - PROGRESS: at 73.10% examples, 109674 words/s, in_qsize 9, out_qsize 0\n",
      "2018-05-16 18:59:26,135 : INFO : EPOCH 1 - PROGRESS: at 73.92% examples, 109716 words/s, in_qsize 10, out_qsize 0\n",
      "2018-05-16 18:59:27,141 : INFO : EPOCH 1 - PROGRESS: at 74.68% examples, 109775 words/s, in_qsize 10, out_qsize 0\n",
      "2018-05-16 18:59:28,218 : INFO : EPOCH 1 - PROGRESS: at 75.43% examples, 109757 words/s, in_qsize 9, out_qsize 0\n"
     ]
    },
    {
     "name": "stderr",
     "output_type": "stream",
     "text": [
      "2018-05-16 18:59:29,221 : INFO : EPOCH 1 - PROGRESS: at 76.27% examples, 109889 words/s, in_qsize 10, out_qsize 1\n",
      "2018-05-16 18:59:30,341 : INFO : EPOCH 1 - PROGRESS: at 77.04% examples, 109832 words/s, in_qsize 10, out_qsize 0\n",
      "2018-05-16 18:59:31,354 : INFO : EPOCH 1 - PROGRESS: at 77.83% examples, 109881 words/s, in_qsize 10, out_qsize 0\n",
      "2018-05-16 18:59:32,393 : INFO : EPOCH 1 - PROGRESS: at 78.52% examples, 109835 words/s, in_qsize 10, out_qsize 0\n",
      "2018-05-16 18:59:33,394 : INFO : EPOCH 1 - PROGRESS: at 79.17% examples, 109760 words/s, in_qsize 9, out_qsize 0\n",
      "2018-05-16 18:59:34,433 : INFO : EPOCH 1 - PROGRESS: at 79.95% examples, 109725 words/s, in_qsize 10, out_qsize 0\n",
      "2018-05-16 18:59:35,458 : INFO : EPOCH 1 - PROGRESS: at 80.74% examples, 109760 words/s, in_qsize 10, out_qsize 0\n",
      "2018-05-16 18:59:36,493 : INFO : EPOCH 1 - PROGRESS: at 81.44% examples, 109710 words/s, in_qsize 10, out_qsize 0\n",
      "2018-05-16 18:59:37,539 : INFO : EPOCH 1 - PROGRESS: at 82.27% examples, 109788 words/s, in_qsize 10, out_qsize 0\n",
      "2018-05-16 18:59:38,574 : INFO : EPOCH 1 - PROGRESS: at 83.00% examples, 109749 words/s, in_qsize 10, out_qsize 0\n",
      "2018-05-16 18:59:39,667 : INFO : EPOCH 1 - PROGRESS: at 83.86% examples, 109776 words/s, in_qsize 10, out_qsize 0\n",
      "2018-05-16 18:59:40,726 : INFO : EPOCH 1 - PROGRESS: at 84.61% examples, 109720 words/s, in_qsize 9, out_qsize 0\n",
      "2018-05-16 18:59:41,808 : INFO : EPOCH 1 - PROGRESS: at 85.41% examples, 109764 words/s, in_qsize 9, out_qsize 0\n",
      "2018-05-16 18:59:42,810 : INFO : EPOCH 1 - PROGRESS: at 86.17% examples, 109812 words/s, in_qsize 9, out_qsize 0\n",
      "2018-05-16 18:59:43,873 : INFO : EPOCH 1 - PROGRESS: at 86.96% examples, 109815 words/s, in_qsize 10, out_qsize 0\n",
      "2018-05-16 18:59:44,929 : INFO : EPOCH 1 - PROGRESS: at 87.80% examples, 109877 words/s, in_qsize 10, out_qsize 0\n",
      "2018-05-16 18:59:45,990 : INFO : EPOCH 1 - PROGRESS: at 88.47% examples, 109817 words/s, in_qsize 9, out_qsize 0\n",
      "2018-05-16 18:59:47,015 : INFO : EPOCH 1 - PROGRESS: at 89.23% examples, 109848 words/s, in_qsize 10, out_qsize 0\n",
      "2018-05-16 18:59:48,029 : INFO : EPOCH 1 - PROGRESS: at 89.98% examples, 109879 words/s, in_qsize 10, out_qsize 0\n",
      "2018-05-16 18:59:49,233 : INFO : EPOCH 1 - PROGRESS: at 90.81% examples, 109811 words/s, in_qsize 10, out_qsize 0\n",
      "2018-05-16 18:59:50,462 : INFO : EPOCH 1 - PROGRESS: at 91.72% examples, 109842 words/s, in_qsize 10, out_qsize 0\n",
      "2018-05-16 18:59:51,633 : INFO : EPOCH 1 - PROGRESS: at 92.66% examples, 109927 words/s, in_qsize 10, out_qsize 0\n",
      "2018-05-16 18:59:52,648 : INFO : EPOCH 1 - PROGRESS: at 93.43% examples, 109964 words/s, in_qsize 10, out_qsize 0\n",
      "2018-05-16 18:59:53,683 : INFO : EPOCH 1 - PROGRESS: at 94.20% examples, 109985 words/s, in_qsize 10, out_qsize 0\n",
      "2018-05-16 18:59:54,689 : INFO : EPOCH 1 - PROGRESS: at 95.03% examples, 110023 words/s, in_qsize 9, out_qsize 0\n",
      "2018-05-16 18:59:55,710 : INFO : EPOCH 1 - PROGRESS: at 95.75% examples, 109998 words/s, in_qsize 10, out_qsize 0\n",
      "2018-05-16 18:59:56,745 : INFO : EPOCH 1 - PROGRESS: at 96.58% examples, 110078 words/s, in_qsize 10, out_qsize 0\n",
      "2018-05-16 18:59:57,764 : INFO : EPOCH 1 - PROGRESS: at 97.18% examples, 109938 words/s, in_qsize 9, out_qsize 0\n",
      "2018-05-16 18:59:58,789 : INFO : EPOCH 1 - PROGRESS: at 97.90% examples, 109972 words/s, in_qsize 10, out_qsize 1\n",
      "2018-05-16 18:59:59,963 : INFO : EPOCH 1 - PROGRESS: at 98.75% examples, 109934 words/s, in_qsize 9, out_qsize 0\n",
      "2018-05-16 19:00:01,014 : INFO : EPOCH 1 - PROGRESS: at 99.61% examples, 110048 words/s, in_qsize 9, out_qsize 0\n",
      "2018-05-16 19:00:01,346 : INFO : worker thread finished; awaiting finish of 4 more threads\n",
      "2018-05-16 19:00:01,457 : INFO : worker thread finished; awaiting finish of 3 more threads\n",
      "2018-05-16 19:00:01,512 : INFO : worker thread finished; awaiting finish of 2 more threads\n",
      "2018-05-16 19:00:01,524 : INFO : worker thread finished; awaiting finish of 1 more threads\n",
      "2018-05-16 19:00:01,531 : INFO : worker thread finished; awaiting finish of 0 more threads\n",
      "2018-05-16 19:00:01,532 : INFO : EPOCH - 1 : training on 20244573 raw words (15846276 effective words) took 143.9s, 110133 effective words/s\n",
      "2018-05-16 19:00:02,759 : INFO : EPOCH 2 - PROGRESS: at 0.65% examples, 88054 words/s, in_qsize 10, out_qsize 0\n",
      "2018-05-16 19:00:03,778 : INFO : EPOCH 2 - PROGRESS: at 1.44% examples, 106364 words/s, in_qsize 10, out_qsize 0\n",
      "2018-05-16 19:00:04,804 : INFO : EPOCH 2 - PROGRESS: at 2.09% examples, 107778 words/s, in_qsize 10, out_qsize 0\n",
      "2018-05-16 19:00:05,814 : INFO : EPOCH 2 - PROGRESS: at 2.73% examples, 107461 words/s, in_qsize 10, out_qsize 0\n",
      "2018-05-16 19:00:06,831 : INFO : EPOCH 2 - PROGRESS: at 3.40% examples, 108414 words/s, in_qsize 9, out_qsize 0\n",
      "2018-05-16 19:00:07,849 : INFO : EPOCH 2 - PROGRESS: at 4.10% examples, 109359 words/s, in_qsize 9, out_qsize 0\n",
      "2018-05-16 19:00:08,933 : INFO : EPOCH 2 - PROGRESS: at 4.78% examples, 108912 words/s, in_qsize 9, out_qsize 0\n",
      "2018-05-16 19:00:09,968 : INFO : EPOCH 2 - PROGRESS: at 5.48% examples, 109305 words/s, in_qsize 10, out_qsize 0\n",
      "2018-05-16 19:00:11,036 : INFO : EPOCH 2 - PROGRESS: at 6.23% examples, 110050 words/s, in_qsize 9, out_qsize 0\n",
      "2018-05-16 19:00:12,048 : INFO : EPOCH 2 - PROGRESS: at 6.92% examples, 109607 words/s, in_qsize 9, out_qsize 0\n",
      "2018-05-16 19:00:13,098 : INFO : EPOCH 2 - PROGRESS: at 7.71% examples, 110381 words/s, in_qsize 9, out_qsize 0\n",
      "2018-05-16 19:00:14,115 : INFO : EPOCH 2 - PROGRESS: at 8.38% examples, 110094 words/s, in_qsize 10, out_qsize 0\n",
      "2018-05-16 19:00:15,139 : INFO : EPOCH 2 - PROGRESS: at 9.07% examples, 110397 words/s, in_qsize 9, out_qsize 0\n",
      "2018-05-16 19:00:16,158 : INFO : EPOCH 2 - PROGRESS: at 9.79% examples, 110566 words/s, in_qsize 10, out_qsize 0\n",
      "2018-05-16 19:00:17,183 : INFO : EPOCH 2 - PROGRESS: at 10.45% examples, 110754 words/s, in_qsize 10, out_qsize 0\n",
      "2018-05-16 19:00:18,211 : INFO : EPOCH 2 - PROGRESS: at 11.11% examples, 110447 words/s, in_qsize 9, out_qsize 0\n",
      "2018-05-16 19:00:19,254 : INFO : EPOCH 2 - PROGRESS: at 11.82% examples, 110898 words/s, in_qsize 9, out_qsize 0\n",
      "2018-05-16 19:00:20,276 : INFO : EPOCH 2 - PROGRESS: at 12.48% examples, 110651 words/s, in_qsize 10, out_qsize 0\n",
      "2018-05-16 19:00:21,360 : INFO : EPOCH 2 - PROGRESS: at 13.23% examples, 110821 words/s, in_qsize 10, out_qsize 0\n",
      "2018-05-16 19:00:22,437 : INFO : EPOCH 2 - PROGRESS: at 13.96% examples, 110668 words/s, in_qsize 10, out_qsize 0\n",
      "2018-05-16 19:00:23,497 : INFO : EPOCH 2 - PROGRESS: at 14.75% examples, 110937 words/s, in_qsize 9, out_qsize 0\n",
      "2018-05-16 19:00:24,636 : INFO : EPOCH 2 - PROGRESS: at 15.49% examples, 110890 words/s, in_qsize 9, out_qsize 0\n",
      "2018-05-16 19:00:25,652 : INFO : EPOCH 2 - PROGRESS: at 16.21% examples, 111265 words/s, in_qsize 10, out_qsize 0\n",
      "2018-05-16 19:00:26,731 : INFO : EPOCH 2 - PROGRESS: at 16.88% examples, 111099 words/s, in_qsize 10, out_qsize 0\n",
      "2018-05-16 19:00:27,763 : INFO : EPOCH 2 - PROGRESS: at 17.53% examples, 111164 words/s, in_qsize 9, out_qsize 0\n",
      "2018-05-16 19:00:28,773 : INFO : EPOCH 2 - PROGRESS: at 18.21% examples, 111298 words/s, in_qsize 9, out_qsize 0\n",
      "2018-05-16 19:00:29,844 : INFO : EPOCH 2 - PROGRESS: at 18.90% examples, 111210 words/s, in_qsize 9, out_qsize 0\n",
      "2018-05-16 19:00:31,011 : INFO : EPOCH 2 - PROGRESS: at 19.63% examples, 110991 words/s, in_qsize 10, out_qsize 0\n",
      "2018-05-16 19:00:32,044 : INFO : EPOCH 2 - PROGRESS: at 20.31% examples, 111038 words/s, in_qsize 10, out_qsize 0\n",
      "2018-05-16 19:00:33,067 : INFO : EPOCH 2 - PROGRESS: at 20.99% examples, 111139 words/s, in_qsize 9, out_qsize 0\n",
      "2018-05-16 19:00:34,084 : INFO : EPOCH 2 - PROGRESS: at 21.71% examples, 111237 words/s, in_qsize 9, out_qsize 0\n",
      "2018-05-16 19:00:35,112 : INFO : EPOCH 2 - PROGRESS: at 22.39% examples, 111095 words/s, in_qsize 10, out_qsize 0\n",
      "2018-05-16 19:00:36,156 : INFO : EPOCH 2 - PROGRESS: at 23.10% examples, 111058 words/s, in_qsize 10, out_qsize 0\n",
      "2018-05-16 19:00:37,160 : INFO : EPOCH 2 - PROGRESS: at 23.87% examples, 111388 words/s, in_qsize 10, out_qsize 0\n",
      "2018-05-16 19:00:38,265 : INFO : EPOCH 2 - PROGRESS: at 24.50% examples, 110980 words/s, in_qsize 9, out_qsize 0\n",
      "2018-05-16 19:00:39,518 : INFO : EPOCH 2 - PROGRESS: at 25.32% examples, 110975 words/s, in_qsize 9, out_qsize 0\n",
      "2018-05-16 19:00:40,742 : INFO : EPOCH 2 - PROGRESS: at 26.18% examples, 111067 words/s, in_qsize 10, out_qsize 0\n"
     ]
    },
    {
     "name": "stderr",
     "output_type": "stream",
     "text": [
      "2018-05-16 19:00:41,796 : INFO : EPOCH 2 - PROGRESS: at 26.97% examples, 111429 words/s, in_qsize 9, out_qsize 0\n",
      "2018-05-16 19:00:42,923 : INFO : EPOCH 2 - PROGRESS: at 27.70% examples, 111172 words/s, in_qsize 10, out_qsize 0\n",
      "2018-05-16 19:00:43,929 : INFO : EPOCH 2 - PROGRESS: at 28.40% examples, 111270 words/s, in_qsize 10, out_qsize 0\n",
      "2018-05-16 19:00:45,079 : INFO : EPOCH 2 - PROGRESS: at 29.16% examples, 111198 words/s, in_qsize 10, out_qsize 0\n",
      "2018-05-16 19:00:46,074 : INFO : EPOCH 2 - PROGRESS: at 29.89% examples, 111310 words/s, in_qsize 10, out_qsize 0\n",
      "2018-05-16 19:00:47,100 : INFO : EPOCH 2 - PROGRESS: at 30.52% examples, 111178 words/s, in_qsize 9, out_qsize 0\n",
      "2018-05-16 19:00:48,105 : INFO : EPOCH 2 - PROGRESS: at 31.29% examples, 111450 words/s, in_qsize 9, out_qsize 0\n",
      "2018-05-16 19:00:49,228 : INFO : EPOCH 2 - PROGRESS: at 31.95% examples, 111085 words/s, in_qsize 9, out_qsize 0\n",
      "2018-05-16 19:00:50,459 : INFO : EPOCH 2 - PROGRESS: at 32.78% examples, 111138 words/s, in_qsize 10, out_qsize 0\n",
      "2018-05-16 19:00:51,485 : INFO : EPOCH 2 - PROGRESS: at 33.56% examples, 111467 words/s, in_qsize 10, out_qsize 0\n",
      "2018-05-16 19:00:52,558 : INFO : EPOCH 2 - PROGRESS: at 34.18% examples, 111230 words/s, in_qsize 10, out_qsize 0\n",
      "2018-05-16 19:00:53,560 : INFO : EPOCH 2 - PROGRESS: at 34.97% examples, 111619 words/s, in_qsize 10, out_qsize 0\n",
      "2018-05-16 19:00:54,580 : INFO : EPOCH 2 - PROGRESS: at 35.55% examples, 111384 words/s, in_qsize 9, out_qsize 0\n",
      "2018-05-16 19:00:55,687 : INFO : EPOCH 2 - PROGRESS: at 36.34% examples, 111369 words/s, in_qsize 9, out_qsize 0\n",
      "2018-05-16 19:00:56,787 : INFO : EPOCH 2 - PROGRESS: at 37.13% examples, 111387 words/s, in_qsize 10, out_qsize 0\n",
      "2018-05-16 19:00:57,854 : INFO : EPOCH 2 - PROGRESS: at 37.88% examples, 111441 words/s, in_qsize 10, out_qsize 0\n",
      "2018-05-16 19:00:58,886 : INFO : EPOCH 2 - PROGRESS: at 38.57% examples, 111330 words/s, in_qsize 10, out_qsize 0\n",
      "2018-05-16 19:00:59,976 : INFO : EPOCH 2 - PROGRESS: at 39.35% examples, 111481 words/s, in_qsize 9, out_qsize 0\n",
      "2018-05-16 19:01:01,097 : INFO : EPOCH 2 - PROGRESS: at 40.02% examples, 111204 words/s, in_qsize 9, out_qsize 0\n",
      "2018-05-16 19:01:02,273 : INFO : EPOCH 2 - PROGRESS: at 40.85% examples, 111334 words/s, in_qsize 10, out_qsize 0\n",
      "2018-05-16 19:01:03,276 : INFO : EPOCH 2 - PROGRESS: at 41.60% examples, 111503 words/s, in_qsize 9, out_qsize 0\n",
      "2018-05-16 19:01:04,302 : INFO : EPOCH 2 - PROGRESS: at 42.31% examples, 111526 words/s, in_qsize 10, out_qsize 0\n",
      "2018-05-16 19:01:05,378 : INFO : EPOCH 2 - PROGRESS: at 43.02% examples, 111458 words/s, in_qsize 10, out_qsize 0\n",
      "2018-05-16 19:01:06,414 : INFO : EPOCH 2 - PROGRESS: at 43.75% examples, 111590 words/s, in_qsize 9, out_qsize 0\n",
      "2018-05-16 19:01:07,515 : INFO : EPOCH 2 - PROGRESS: at 44.41% examples, 111461 words/s, in_qsize 10, out_qsize 0\n",
      "2018-05-16 19:01:08,632 : INFO : EPOCH 2 - PROGRESS: at 45.23% examples, 111566 words/s, in_qsize 10, out_qsize 0\n",
      "2018-05-16 19:01:09,660 : INFO : EPOCH 2 - PROGRESS: at 45.93% examples, 111597 words/s, in_qsize 9, out_qsize 0\n",
      "2018-05-16 19:01:10,665 : INFO : EPOCH 2 - PROGRESS: at 46.62% examples, 111624 words/s, in_qsize 9, out_qsize 0\n",
      "2018-05-16 19:01:11,689 : INFO : EPOCH 2 - PROGRESS: at 47.33% examples, 111621 words/s, in_qsize 10, out_qsize 0\n",
      "2018-05-16 19:01:12,768 : INFO : EPOCH 2 - PROGRESS: at 48.00% examples, 111567 words/s, in_qsize 9, out_qsize 0\n",
      "2018-05-16 19:01:13,913 : INFO : EPOCH 2 - PROGRESS: at 48.78% examples, 111608 words/s, in_qsize 10, out_qsize 0\n",
      "2018-05-16 19:01:14,936 : INFO : EPOCH 2 - PROGRESS: at 49.57% examples, 111750 words/s, in_qsize 9, out_qsize 0\n",
      "2018-05-16 19:01:16,045 : INFO : EPOCH 2 - PROGRESS: at 50.27% examples, 111639 words/s, in_qsize 10, out_qsize 0\n",
      "2018-05-16 19:01:17,090 : INFO : EPOCH 2 - PROGRESS: at 51.01% examples, 111735 words/s, in_qsize 10, out_qsize 0\n",
      "2018-05-16 19:01:18,105 : INFO : EPOCH 2 - PROGRESS: at 51.75% examples, 111786 words/s, in_qsize 9, out_qsize 0\n",
      "2018-05-16 19:01:19,157 : INFO : EPOCH 2 - PROGRESS: at 52.51% examples, 111747 words/s, in_qsize 10, out_qsize 0\n",
      "2018-05-16 19:01:20,172 : INFO : EPOCH 2 - PROGRESS: at 53.38% examples, 111982 words/s, in_qsize 10, out_qsize 0\n",
      "2018-05-16 19:01:21,314 : INFO : EPOCH 2 - PROGRESS: at 54.09% examples, 111754 words/s, in_qsize 10, out_qsize 0\n",
      "2018-05-16 19:01:22,553 : INFO : EPOCH 2 - PROGRESS: at 55.00% examples, 111772 words/s, in_qsize 9, out_qsize 0\n",
      "2018-05-16 19:01:23,765 : INFO : EPOCH 2 - PROGRESS: at 55.92% examples, 111815 words/s, in_qsize 9, out_qsize 0\n",
      "2018-05-16 19:01:24,985 : INFO : EPOCH 2 - PROGRESS: at 56.88% examples, 111871 words/s, in_qsize 9, out_qsize 0\n",
      "2018-05-16 19:01:25,986 : INFO : EPOCH 2 - PROGRESS: at 57.64% examples, 111914 words/s, in_qsize 10, out_qsize 0\n",
      "2018-05-16 19:01:27,004 : INFO : EPOCH 2 - PROGRESS: at 58.49% examples, 112033 words/s, in_qsize 9, out_qsize 0\n",
      "2018-05-16 19:01:28,059 : INFO : EPOCH 2 - PROGRESS: at 59.30% examples, 112005 words/s, in_qsize 9, out_qsize 0\n",
      "2018-05-16 19:01:29,135 : INFO : EPOCH 2 - PROGRESS: at 60.09% examples, 112067 words/s, in_qsize 9, out_qsize 0\n",
      "2018-05-16 19:01:30,174 : INFO : EPOCH 2 - PROGRESS: at 60.88% examples, 112162 words/s, in_qsize 9, out_qsize 0\n",
      "2018-05-16 19:01:31,245 : INFO : EPOCH 2 - PROGRESS: at 61.68% examples, 112129 words/s, in_qsize 9, out_qsize 0\n",
      "2018-05-16 19:01:32,307 : INFO : EPOCH 2 - PROGRESS: at 62.51% examples, 112180 words/s, in_qsize 10, out_qsize 0\n",
      "2018-05-16 19:01:33,421 : INFO : EPOCH 2 - PROGRESS: at 63.31% examples, 112172 words/s, in_qsize 10, out_qsize 0\n",
      "2018-05-16 19:01:34,480 : INFO : EPOCH 2 - PROGRESS: at 64.14% examples, 112215 words/s, in_qsize 9, out_qsize 0\n",
      "2018-05-16 19:01:35,549 : INFO : EPOCH 2 - PROGRESS: at 64.97% examples, 112181 words/s, in_qsize 10, out_qsize 0\n",
      "2018-05-16 19:01:36,663 : INFO : EPOCH 2 - PROGRESS: at 65.82% examples, 112251 words/s, in_qsize 10, out_qsize 0\n",
      "2018-05-16 19:01:37,674 : INFO : EPOCH 2 - PROGRESS: at 66.67% examples, 112354 words/s, in_qsize 10, out_qsize 0\n",
      "2018-05-16 19:01:38,699 : INFO : EPOCH 2 - PROGRESS: at 67.37% examples, 112295 words/s, in_qsize 9, out_qsize 0\n",
      "2018-05-16 19:01:39,842 : INFO : EPOCH 2 - PROGRESS: at 68.13% examples, 112230 words/s, in_qsize 10, out_qsize 0\n",
      "2018-05-16 19:01:40,866 : INFO : EPOCH 2 - PROGRESS: at 69.01% examples, 112403 words/s, in_qsize 9, out_qsize 0\n",
      "2018-05-16 19:01:41,910 : INFO : EPOCH 2 - PROGRESS: at 69.75% examples, 112314 words/s, in_qsize 9, out_qsize 0\n",
      "2018-05-16 19:01:42,916 : INFO : EPOCH 2 - PROGRESS: at 70.59% examples, 112420 words/s, in_qsize 9, out_qsize 0\n",
      "2018-05-16 19:01:43,993 : INFO : EPOCH 2 - PROGRESS: at 71.34% examples, 112375 words/s, in_qsize 10, out_qsize 0\n",
      "2018-05-16 19:01:45,034 : INFO : EPOCH 2 - PROGRESS: at 72.15% examples, 112440 words/s, in_qsize 9, out_qsize 0\n",
      "2018-05-16 19:01:46,072 : INFO : EPOCH 2 - PROGRESS: at 72.89% examples, 112438 words/s, in_qsize 9, out_qsize 0\n",
      "2018-05-16 19:01:47,136 : INFO : EPOCH 2 - PROGRESS: at 73.70% examples, 112407 words/s, in_qsize 10, out_qsize 0\n",
      "2018-05-16 19:01:48,236 : INFO : EPOCH 2 - PROGRESS: at 74.54% examples, 112409 words/s, in_qsize 10, out_qsize 0\n",
      "2018-05-16 19:01:49,293 : INFO : EPOCH 2 - PROGRESS: at 75.28% examples, 112395 words/s, in_qsize 9, out_qsize 0\n",
      "2018-05-16 19:01:50,375 : INFO : EPOCH 2 - PROGRESS: at 76.12% examples, 112419 words/s, in_qsize 9, out_qsize 0\n",
      "2018-05-16 19:01:51,455 : INFO : EPOCH 2 - PROGRESS: at 76.94% examples, 112448 words/s, in_qsize 10, out_qsize 0\n",
      "2018-05-16 19:01:52,487 : INFO : EPOCH 2 - PROGRESS: at 77.72% examples, 112457 words/s, in_qsize 10, out_qsize 0\n",
      "2018-05-16 19:01:53,621 : INFO : EPOCH 2 - PROGRESS: at 78.52% examples, 112429 words/s, in_qsize 10, out_qsize 0\n",
      "2018-05-16 19:01:54,637 : INFO : EPOCH 2 - PROGRESS: at 79.28% examples, 112459 words/s, in_qsize 9, out_qsize 0\n",
      "2018-05-16 19:01:55,660 : INFO : EPOCH 2 - PROGRESS: at 80.16% examples, 112544 words/s, in_qsize 10, out_qsize 0\n",
      "2018-05-16 19:01:56,717 : INFO : EPOCH 2 - PROGRESS: at 80.92% examples, 112522 words/s, in_qsize 10, out_qsize 0\n",
      "2018-05-16 19:01:57,763 : INFO : EPOCH 2 - PROGRESS: at 81.73% examples, 112501 words/s, in_qsize 9, out_qsize 0\n",
      "2018-05-16 19:01:58,893 : INFO : EPOCH 2 - PROGRESS: at 82.55% examples, 112482 words/s, in_qsize 10, out_qsize 0\n"
     ]
    },
    {
     "name": "stderr",
     "output_type": "stream",
     "text": [
      "2018-05-16 19:01:59,904 : INFO : EPOCH 2 - PROGRESS: at 83.39% examples, 112569 words/s, in_qsize 10, out_qsize 0\n",
      "2018-05-16 19:02:00,969 : INFO : EPOCH 2 - PROGRESS: at 84.20% examples, 112599 words/s, in_qsize 10, out_qsize 0\n",
      "2018-05-16 19:02:02,018 : INFO : EPOCH 2 - PROGRESS: at 84.96% examples, 112518 words/s, in_qsize 9, out_qsize 0\n",
      "2018-05-16 19:02:03,057 : INFO : EPOCH 2 - PROGRESS: at 85.70% examples, 112517 words/s, in_qsize 10, out_qsize 0\n",
      "2018-05-16 19:02:04,074 : INFO : EPOCH 2 - PROGRESS: at 86.54% examples, 112597 words/s, in_qsize 9, out_qsize 1\n",
      "2018-05-16 19:02:05,114 : INFO : EPOCH 2 - PROGRESS: at 87.33% examples, 112596 words/s, in_qsize 10, out_qsize 0\n",
      "2018-05-16 19:02:06,143 : INFO : EPOCH 2 - PROGRESS: at 88.13% examples, 112666 words/s, in_qsize 9, out_qsize 0\n",
      "2018-05-16 19:02:07,157 : INFO : EPOCH 2 - PROGRESS: at 88.90% examples, 112678 words/s, in_qsize 10, out_qsize 0\n",
      "2018-05-16 19:02:08,242 : INFO : EPOCH 2 - PROGRESS: at 89.62% examples, 112635 words/s, in_qsize 10, out_qsize 0\n",
      "2018-05-16 19:02:09,321 : INFO : EPOCH 2 - PROGRESS: at 90.44% examples, 112647 words/s, in_qsize 10, out_qsize 0\n",
      "2018-05-16 19:02:10,347 : INFO : EPOCH 2 - PROGRESS: at 91.26% examples, 112712 words/s, in_qsize 10, out_qsize 0\n",
      "2018-05-16 19:02:11,352 : INFO : EPOCH 2 - PROGRESS: at 91.98% examples, 112671 words/s, in_qsize 10, out_qsize 0\n",
      "2018-05-16 19:02:12,353 : INFO : EPOCH 2 - PROGRESS: at 92.81% examples, 112756 words/s, in_qsize 9, out_qsize 0\n",
      "2018-05-16 19:02:13,387 : INFO : EPOCH 2 - PROGRESS: at 93.55% examples, 112698 words/s, in_qsize 10, out_qsize 0\n",
      "2018-05-16 19:02:14,432 : INFO : EPOCH 2 - PROGRESS: at 94.31% examples, 112689 words/s, in_qsize 9, out_qsize 0\n",
      "2018-05-16 19:02:15,504 : INFO : EPOCH 2 - PROGRESS: at 95.18% examples, 112710 words/s, in_qsize 9, out_qsize 0\n",
      "2018-05-16 19:02:16,532 : INFO : EPOCH 2 - PROGRESS: at 95.96% examples, 112714 words/s, in_qsize 10, out_qsize 0\n",
      "2018-05-16 19:02:17,565 : INFO : EPOCH 2 - PROGRESS: at 96.72% examples, 112716 words/s, in_qsize 9, out_qsize 0\n",
      "2018-05-16 19:02:18,682 : INFO : EPOCH 2 - PROGRESS: at 97.52% examples, 112703 words/s, in_qsize 10, out_qsize 0\n",
      "2018-05-16 19:02:19,720 : INFO : EPOCH 2 - PROGRESS: at 98.32% examples, 112765 words/s, in_qsize 10, out_qsize 0\n",
      "2018-05-16 19:02:20,788 : INFO : EPOCH 2 - PROGRESS: at 99.09% examples, 112734 words/s, in_qsize 10, out_qsize 0\n",
      "2018-05-16 19:02:21,751 : INFO : worker thread finished; awaiting finish of 4 more threads\n",
      "2018-05-16 19:02:21,872 : INFO : EPOCH 2 - PROGRESS: at 99.89% examples, 112758 words/s, in_qsize 3, out_qsize 1\n",
      "2018-05-16 19:02:21,873 : INFO : worker thread finished; awaiting finish of 3 more threads\n",
      "2018-05-16 19:02:21,877 : INFO : worker thread finished; awaiting finish of 2 more threads\n",
      "2018-05-16 19:02:21,897 : INFO : worker thread finished; awaiting finish of 1 more threads\n",
      "2018-05-16 19:02:21,921 : INFO : worker thread finished; awaiting finish of 0 more threads\n",
      "2018-05-16 19:02:21,922 : INFO : EPOCH - 2 : training on 20244573 raw words (15844895 effective words) took 140.4s, 112868 effective words/s\n",
      "2018-05-16 19:02:22,944 : INFO : EPOCH 3 - PROGRESS: at 0.56% examples, 91102 words/s, in_qsize 10, out_qsize 0\n",
      "2018-05-16 19:02:23,998 : INFO : EPOCH 3 - PROGRESS: at 1.29% examples, 103983 words/s, in_qsize 10, out_qsize 0\n",
      "2018-05-16 19:02:25,025 : INFO : EPOCH 3 - PROGRESS: at 1.95% examples, 106255 words/s, in_qsize 10, out_qsize 0\n",
      "2018-05-16 19:02:26,041 : INFO : EPOCH 3 - PROGRESS: at 2.64% examples, 108135 words/s, in_qsize 9, out_qsize 0\n",
      "2018-05-16 19:02:27,164 : INFO : EPOCH 3 - PROGRESS: at 3.35% examples, 108277 words/s, in_qsize 9, out_qsize 0\n",
      "2018-05-16 19:02:28,259 : INFO : EPOCH 3 - PROGRESS: at 4.14% examples, 110160 words/s, in_qsize 10, out_qsize 0\n",
      "2018-05-16 19:02:29,291 : INFO : EPOCH 3 - PROGRESS: at 4.78% examples, 109575 words/s, in_qsize 9, out_qsize 0\n",
      "2018-05-16 19:02:30,285 : INFO : EPOCH 3 - PROGRESS: at 5.52% examples, 111209 words/s, in_qsize 10, out_qsize 0\n",
      "2018-05-16 19:02:31,290 : INFO : EPOCH 3 - PROGRESS: at 6.19% examples, 110779 words/s, in_qsize 10, out_qsize 0\n",
      "2018-05-16 19:02:32,317 : INFO : EPOCH 3 - PROGRESS: at 6.92% examples, 110927 words/s, in_qsize 10, out_qsize 0\n",
      "2018-05-16 19:02:33,321 : INFO : EPOCH 3 - PROGRESS: at 7.66% examples, 111370 words/s, in_qsize 10, out_qsize 0\n",
      "2018-05-16 19:02:34,530 : INFO : EPOCH 3 - PROGRESS: at 8.43% examples, 110545 words/s, in_qsize 10, out_qsize 0\n",
      "2018-05-16 19:02:35,543 : INFO : EPOCH 3 - PROGRESS: at 9.22% examples, 111983 words/s, in_qsize 10, out_qsize 0\n",
      "2018-05-16 19:02:36,598 : INFO : EPOCH 3 - PROGRESS: at 9.87% examples, 111306 words/s, in_qsize 10, out_qsize 0\n",
      "2018-05-16 19:02:37,682 : INFO : EPOCH 3 - PROGRESS: at 10.54% examples, 111027 words/s, in_qsize 10, out_qsize 0\n",
      "2018-05-16 19:02:38,786 : INFO : EPOCH 3 - PROGRESS: at 11.32% examples, 111660 words/s, in_qsize 9, out_qsize 0\n",
      "2018-05-16 19:02:39,832 : INFO : EPOCH 3 - PROGRESS: at 11.97% examples, 111104 words/s, in_qsize 10, out_qsize 0\n",
      "2018-05-16 19:02:40,833 : INFO : EPOCH 3 - PROGRESS: at 12.77% examples, 112174 words/s, in_qsize 10, out_qsize 0\n",
      "2018-05-16 19:02:41,890 : INFO : EPOCH 3 - PROGRESS: at 13.43% examples, 111698 words/s, in_qsize 9, out_qsize 0\n",
      "2018-05-16 19:02:42,889 : INFO : EPOCH 3 - PROGRESS: at 14.15% examples, 111870 words/s, in_qsize 10, out_qsize 0\n",
      "2018-05-16 19:02:43,935 : INFO : EPOCH 3 - PROGRESS: at 14.88% examples, 111789 words/s, in_qsize 9, out_qsize 0\n",
      "2018-05-16 19:02:44,973 : INFO : EPOCH 3 - PROGRESS: at 15.58% examples, 111821 words/s, in_qsize 10, out_qsize 0\n",
      "2018-05-16 19:02:45,993 : INFO : EPOCH 3 - PROGRESS: at 16.30% examples, 112175 words/s, in_qsize 10, out_qsize 0\n",
      "2018-05-16 19:02:47,180 : INFO : EPOCH 3 - PROGRESS: at 16.93% examples, 111180 words/s, in_qsize 10, out_qsize 0\n",
      "2018-05-16 19:02:48,226 : INFO : EPOCH 3 - PROGRESS: at 17.68% examples, 111751 words/s, in_qsize 10, out_qsize 0\n",
      "2018-05-16 19:02:49,300 : INFO : EPOCH 3 - PROGRESS: at 18.30% examples, 111356 words/s, in_qsize 9, out_qsize 0\n",
      "2018-05-16 19:02:50,308 : INFO : EPOCH 3 - PROGRESS: at 19.00% examples, 111476 words/s, in_qsize 10, out_qsize 0\n",
      "2018-05-16 19:02:51,346 : INFO : EPOCH 3 - PROGRESS: at 19.69% examples, 111490 words/s, in_qsize 10, out_qsize 1\n",
      "2018-05-16 19:02:52,470 : INFO : EPOCH 3 - PROGRESS: at 20.40% examples, 111450 words/s, in_qsize 10, out_qsize 0\n",
      "2018-05-16 19:02:53,475 : INFO : EPOCH 3 - PROGRESS: at 21.05% examples, 111341 words/s, in_qsize 10, out_qsize 1\n",
      "2018-05-16 19:02:54,499 : INFO : EPOCH 3 - PROGRESS: at 21.80% examples, 111654 words/s, in_qsize 10, out_qsize 0\n",
      "2018-05-16 19:02:55,581 : INFO : EPOCH 3 - PROGRESS: at 22.54% examples, 111510 words/s, in_qsize 10, out_qsize 0\n",
      "2018-05-16 19:02:56,594 : INFO : EPOCH 3 - PROGRESS: at 23.23% examples, 111595 words/s, in_qsize 10, out_qsize 0\n",
      "2018-05-16 19:02:57,613 : INFO : EPOCH 3 - PROGRESS: at 24.00% examples, 111856 words/s, in_qsize 10, out_qsize 0\n",
      "2018-05-16 19:02:58,632 : INFO : EPOCH 3 - PROGRESS: at 24.64% examples, 111697 words/s, in_qsize 10, out_qsize 0\n",
      "2018-05-16 19:02:59,661 : INFO : EPOCH 3 - PROGRESS: at 25.33% examples, 111709 words/s, in_qsize 10, out_qsize 0\n",
      "2018-05-16 19:03:00,775 : INFO : EPOCH 3 - PROGRESS: at 26.09% examples, 111706 words/s, in_qsize 10, out_qsize 0\n",
      "2018-05-16 19:03:01,798 : INFO : EPOCH 3 - PROGRESS: at 26.79% examples, 111748 words/s, in_qsize 9, out_qsize 0\n",
      "2018-05-16 19:03:02,867 : INFO : EPOCH 3 - PROGRESS: at 27.56% examples, 111846 words/s, in_qsize 9, out_qsize 0\n",
      "2018-05-16 19:03:03,949 : INFO : EPOCH 3 - PROGRESS: at 28.26% examples, 111727 words/s, in_qsize 9, out_qsize 0\n",
      "2018-05-16 19:03:04,947 : INFO : EPOCH 3 - PROGRESS: at 29.03% examples, 111996 words/s, in_qsize 10, out_qsize 0\n",
      "2018-05-16 19:03:06,006 : INFO : EPOCH 3 - PROGRESS: at 29.68% examples, 111763 words/s, in_qsize 10, out_qsize 0\n",
      "2018-05-16 19:03:07,012 : INFO : EPOCH 3 - PROGRESS: at 30.39% examples, 111855 words/s, in_qsize 10, out_qsize 0\n",
      "2018-05-16 19:03:08,013 : INFO : EPOCH 3 - PROGRESS: at 31.00% examples, 111608 words/s, in_qsize 10, out_qsize 0\n",
      "2018-05-16 19:03:09,118 : INFO : EPOCH 3 - PROGRESS: at 31.76% examples, 111625 words/s, in_qsize 10, out_qsize 0\n"
     ]
    },
    {
     "name": "stderr",
     "output_type": "stream",
     "text": [
      "2018-05-16 19:03:10,128 : INFO : EPOCH 3 - PROGRESS: at 32.42% examples, 111523 words/s, in_qsize 9, out_qsize 0\n",
      "2018-05-16 19:03:11,154 : INFO : EPOCH 3 - PROGRESS: at 32.96% examples, 111090 words/s, in_qsize 10, out_qsize 0\n",
      "2018-05-16 19:03:12,403 : INFO : EPOCH 3 - PROGRESS: at 33.65% examples, 110646 words/s, in_qsize 9, out_qsize 0\n",
      "2018-05-16 19:03:13,495 : INFO : EPOCH 3 - PROGRESS: at 34.32% examples, 110510 words/s, in_qsize 10, out_qsize 0\n",
      "2018-05-16 19:03:14,495 : INFO : EPOCH 3 - PROGRESS: at 34.87% examples, 110179 words/s, in_qsize 10, out_qsize 0\n",
      "2018-05-16 19:03:15,530 : INFO : EPOCH 3 - PROGRESS: at 35.46% examples, 109950 words/s, in_qsize 10, out_qsize 0\n",
      "2018-05-16 19:03:16,631 : INFO : EPOCH 3 - PROGRESS: at 36.18% examples, 109829 words/s, in_qsize 10, out_qsize 0\n",
      "2018-05-16 19:03:17,672 : INFO : EPOCH 3 - PROGRESS: at 36.93% examples, 109841 words/s, in_qsize 10, out_qsize 0\n",
      "2018-05-16 19:03:18,710 : INFO : EPOCH 3 - PROGRESS: at 37.51% examples, 109465 words/s, in_qsize 10, out_qsize 0\n",
      "2018-05-16 19:03:19,831 : INFO : EPOCH 3 - PROGRESS: at 38.07% examples, 108935 words/s, in_qsize 10, out_qsize 0\n",
      "2018-05-16 19:03:20,872 : INFO : EPOCH 3 - PROGRESS: at 38.75% examples, 108851 words/s, in_qsize 10, out_qsize 0\n",
      "2018-05-16 19:03:22,035 : INFO : EPOCH 3 - PROGRESS: at 39.41% examples, 108537 words/s, in_qsize 9, out_qsize 0\n",
      "2018-05-16 19:03:23,067 : INFO : EPOCH 3 - PROGRESS: at 40.07% examples, 108467 words/s, in_qsize 10, out_qsize 0\n",
      "2018-05-16 19:03:24,074 : INFO : EPOCH 3 - PROGRESS: at 40.71% examples, 108429 words/s, in_qsize 10, out_qsize 0\n",
      "2018-05-16 19:03:25,104 : INFO : EPOCH 3 - PROGRESS: at 41.42% examples, 108480 words/s, in_qsize 10, out_qsize 0\n",
      "2018-05-16 19:03:26,158 : INFO : EPOCH 3 - PROGRESS: at 42.07% examples, 108385 words/s, in_qsize 9, out_qsize 0\n",
      "2018-05-16 19:03:27,215 : INFO : EPOCH 3 - PROGRESS: at 42.68% examples, 108182 words/s, in_qsize 9, out_qsize 0\n",
      "2018-05-16 19:03:28,225 : INFO : EPOCH 3 - PROGRESS: at 43.34% examples, 108153 words/s, in_qsize 10, out_qsize 0\n",
      "2018-05-16 19:03:29,238 : INFO : EPOCH 3 - PROGRESS: at 43.97% examples, 108116 words/s, in_qsize 10, out_qsize 0\n",
      "2018-05-16 19:03:30,378 : INFO : EPOCH 3 - PROGRESS: at 44.71% examples, 108114 words/s, in_qsize 9, out_qsize 0\n",
      "2018-05-16 19:03:31,428 : INFO : EPOCH 3 - PROGRESS: at 45.44% examples, 108141 words/s, in_qsize 10, out_qsize 0\n",
      "2018-05-16 19:03:32,461 : INFO : EPOCH 3 - PROGRESS: at 46.06% examples, 108088 words/s, in_qsize 10, out_qsize 0\n",
      "2018-05-16 19:03:33,561 : INFO : EPOCH 3 - PROGRESS: at 46.76% examples, 108035 words/s, in_qsize 10, out_qsize 0\n",
      "2018-05-16 19:03:34,564 : INFO : EPOCH 3 - PROGRESS: at 47.45% examples, 108126 words/s, in_qsize 10, out_qsize 0\n",
      "2018-05-16 19:03:35,602 : INFO : EPOCH 3 - PROGRESS: at 48.12% examples, 108181 words/s, in_qsize 9, out_qsize 0\n",
      "2018-05-16 19:03:36,707 : INFO : EPOCH 3 - PROGRESS: at 48.88% examples, 108227 words/s, in_qsize 9, out_qsize 0\n",
      "2018-05-16 19:03:37,720 : INFO : EPOCH 3 - PROGRESS: at 49.63% examples, 108326 words/s, in_qsize 10, out_qsize 0\n",
      "2018-05-16 19:03:38,781 : INFO : EPOCH 3 - PROGRESS: at 50.31% examples, 108335 words/s, in_qsize 10, out_qsize 0\n",
      "2018-05-16 19:03:39,783 : INFO : EPOCH 3 - PROGRESS: at 51.06% examples, 108531 words/s, in_qsize 10, out_qsize 0\n",
      "2018-05-16 19:03:40,841 : INFO : EPOCH 3 - PROGRESS: at 51.80% examples, 108543 words/s, in_qsize 9, out_qsize 0\n",
      "2018-05-16 19:03:41,867 : INFO : EPOCH 3 - PROGRESS: at 52.56% examples, 108617 words/s, in_qsize 9, out_qsize 0\n",
      "2018-05-16 19:03:42,860 : INFO : EPOCH 3 - PROGRESS: at 53.28% examples, 108609 words/s, in_qsize 10, out_qsize 0\n",
      "2018-05-16 19:03:43,954 : INFO : EPOCH 3 - PROGRESS: at 54.04% examples, 108590 words/s, in_qsize 10, out_qsize 0\n",
      "2018-05-16 19:03:44,989 : INFO : EPOCH 3 - PROGRESS: at 54.75% examples, 108548 words/s, in_qsize 9, out_qsize 0\n",
      "2018-05-16 19:03:46,112 : INFO : EPOCH 3 - PROGRESS: at 55.61% examples, 108670 words/s, in_qsize 10, out_qsize 0\n",
      "2018-05-16 19:03:47,185 : INFO : EPOCH 3 - PROGRESS: at 56.44% examples, 108763 words/s, in_qsize 9, out_qsize 0\n",
      "2018-05-16 19:03:48,268 : INFO : EPOCH 3 - PROGRESS: at 57.28% examples, 108825 words/s, in_qsize 9, out_qsize 1\n",
      "2018-05-16 19:03:49,286 : INFO : EPOCH 3 - PROGRESS: at 58.08% examples, 108893 words/s, in_qsize 10, out_qsize 0\n",
      "2018-05-16 19:03:50,286 : INFO : EPOCH 3 - PROGRESS: at 58.93% examples, 109070 words/s, in_qsize 10, out_qsize 0\n",
      "2018-05-16 19:03:51,311 : INFO : EPOCH 3 - PROGRESS: at 59.63% examples, 109029 words/s, in_qsize 10, out_qsize 0\n",
      "2018-05-16 19:03:52,426 : INFO : EPOCH 3 - PROGRESS: at 60.49% examples, 109166 words/s, in_qsize 9, out_qsize 0\n",
      "2018-05-16 19:03:53,454 : INFO : EPOCH 3 - PROGRESS: at 61.33% examples, 109301 words/s, in_qsize 10, out_qsize 0\n",
      "2018-05-16 19:03:54,505 : INFO : EPOCH 3 - PROGRESS: at 62.10% examples, 109317 words/s, in_qsize 9, out_qsize 0\n",
      "2018-05-16 19:03:55,541 : INFO : EPOCH 3 - PROGRESS: at 62.87% examples, 109351 words/s, in_qsize 10, out_qsize 0\n",
      "2018-05-16 19:03:56,569 : INFO : EPOCH 3 - PROGRESS: at 63.50% examples, 109225 words/s, in_qsize 10, out_qsize 0\n",
      "2018-05-16 19:03:57,589 : INFO : EPOCH 3 - PROGRESS: at 64.20% examples, 109111 words/s, in_qsize 9, out_qsize 0\n",
      "2018-05-16 19:03:58,612 : INFO : EPOCH 3 - PROGRESS: at 65.00% examples, 109167 words/s, in_qsize 9, out_qsize 0\n",
      "2018-05-16 19:03:59,660 : INFO : EPOCH 3 - PROGRESS: at 65.76% examples, 109177 words/s, in_qsize 10, out_qsize 0\n",
      "2018-05-16 19:04:00,687 : INFO : EPOCH 3 - PROGRESS: at 66.62% examples, 109300 words/s, in_qsize 9, out_qsize 0\n",
      "2018-05-16 19:04:01,713 : INFO : EPOCH 3 - PROGRESS: at 67.37% examples, 109332 words/s, in_qsize 9, out_qsize 0\n",
      "2018-05-16 19:04:02,800 : INFO : EPOCH 3 - PROGRESS: at 68.07% examples, 109296 words/s, in_qsize 10, out_qsize 1\n",
      "2018-05-16 19:04:04,014 : INFO : EPOCH 3 - PROGRESS: at 69.02% examples, 109369 words/s, in_qsize 9, out_qsize 0\n",
      "2018-05-16 19:04:05,018 : INFO : EPOCH 3 - PROGRESS: at 69.90% examples, 109577 words/s, in_qsize 9, out_qsize 0\n",
      "2018-05-16 19:04:06,126 : INFO : EPOCH 3 - PROGRESS: at 70.63% examples, 109466 words/s, in_qsize 10, out_qsize 0\n",
      "2018-05-16 19:04:07,236 : INFO : EPOCH 3 - PROGRESS: at 71.52% examples, 109556 words/s, in_qsize 10, out_qsize 0\n",
      "2018-05-16 19:04:08,245 : INFO : EPOCH 3 - PROGRESS: at 72.24% examples, 109607 words/s, in_qsize 10, out_qsize 0\n",
      "2018-05-16 19:04:09,293 : INFO : EPOCH 3 - PROGRESS: at 73.06% examples, 109689 words/s, in_qsize 10, out_qsize 0\n",
      "2018-05-16 19:04:10,425 : INFO : EPOCH 3 - PROGRESS: at 73.87% examples, 109624 words/s, in_qsize 9, out_qsize 0\n",
      "2018-05-16 19:04:11,443 : INFO : EPOCH 3 - PROGRESS: at 74.73% examples, 109815 words/s, in_qsize 10, out_qsize 0\n",
      "2018-05-16 19:04:12,480 : INFO : EPOCH 3 - PROGRESS: at 75.43% examples, 109776 words/s, in_qsize 9, out_qsize 0\n",
      "2018-05-16 19:04:13,486 : INFO : EPOCH 3 - PROGRESS: at 76.27% examples, 109897 words/s, in_qsize 9, out_qsize 0\n",
      "2018-05-16 19:04:14,589 : INFO : EPOCH 3 - PROGRESS: at 76.99% examples, 109787 words/s, in_qsize 10, out_qsize 1\n",
      "2018-05-16 19:04:15,634 : INFO : EPOCH 3 - PROGRESS: at 77.88% examples, 109943 words/s, in_qsize 10, out_qsize 0\n",
      "2018-05-16 19:04:16,639 : INFO : EPOCH 3 - PROGRESS: at 78.57% examples, 109929 words/s, in_qsize 10, out_qsize 0\n",
      "2018-05-16 19:04:17,671 : INFO : EPOCH 3 - PROGRESS: at 79.33% examples, 109963 words/s, in_qsize 9, out_qsize 0\n",
      "2018-05-16 19:04:18,679 : INFO : EPOCH 3 - PROGRESS: at 80.10% examples, 109948 words/s, in_qsize 10, out_qsize 0\n",
      "2018-05-16 19:04:19,732 : INFO : EPOCH 3 - PROGRESS: at 80.93% examples, 110019 words/s, in_qsize 10, out_qsize 0\n",
      "2018-05-16 19:04:20,738 : INFO : EPOCH 3 - PROGRESS: at 81.72% examples, 110053 words/s, in_qsize 9, out_qsize 0\n",
      "2018-05-16 19:04:21,788 : INFO : EPOCH 3 - PROGRESS: at 82.50% examples, 110068 words/s, in_qsize 9, out_qsize 0\n",
      "2018-05-16 19:04:22,809 : INFO : EPOCH 3 - PROGRESS: at 83.27% examples, 110103 words/s, in_qsize 10, out_qsize 0\n",
      "2018-05-16 19:04:23,884 : INFO : EPOCH 3 - PROGRESS: at 84.04% examples, 110087 words/s, in_qsize 9, out_qsize 0\n",
      "2018-05-16 19:04:24,925 : INFO : EPOCH 3 - PROGRESS: at 84.91% examples, 110153 words/s, in_qsize 10, out_qsize 0\n",
      "2018-05-16 19:04:25,947 : INFO : EPOCH 3 - PROGRESS: at 85.60% examples, 110127 words/s, in_qsize 10, out_qsize 0\n"
     ]
    },
    {
     "name": "stderr",
     "output_type": "stream",
     "text": [
      "2018-05-16 19:04:26,989 : INFO : EPOCH 3 - PROGRESS: at 86.44% examples, 110208 words/s, in_qsize 10, out_qsize 0\n",
      "2018-05-16 19:04:28,123 : INFO : EPOCH 3 - PROGRESS: at 87.28% examples, 110203 words/s, in_qsize 9, out_qsize 0\n",
      "2018-05-16 19:04:29,132 : INFO : EPOCH 3 - PROGRESS: at 88.04% examples, 110246 words/s, in_qsize 10, out_qsize 0\n",
      "2018-05-16 19:04:30,252 : INFO : EPOCH 3 - PROGRESS: at 88.85% examples, 110246 words/s, in_qsize 10, out_qsize 0\n",
      "2018-05-16 19:04:31,280 : INFO : EPOCH 3 - PROGRESS: at 89.58% examples, 110271 words/s, in_qsize 10, out_qsize 0\n",
      "2018-05-16 19:04:32,301 : INFO : EPOCH 3 - PROGRESS: at 90.37% examples, 110359 words/s, in_qsize 9, out_qsize 0\n",
      "2018-05-16 19:04:33,329 : INFO : EPOCH 3 - PROGRESS: at 91.15% examples, 110374 words/s, in_qsize 10, out_qsize 0\n",
      "2018-05-16 19:04:34,360 : INFO : EPOCH 3 - PROGRESS: at 91.93% examples, 110388 words/s, in_qsize 9, out_qsize 0\n",
      "2018-05-16 19:04:35,410 : INFO : EPOCH 3 - PROGRESS: at 92.75% examples, 110447 words/s, in_qsize 9, out_qsize 0\n",
      "2018-05-16 19:04:36,460 : INFO : EPOCH 3 - PROGRESS: at 93.55% examples, 110455 words/s, in_qsize 10, out_qsize 0\n",
      "2018-05-16 19:04:37,505 : INFO : EPOCH 3 - PROGRESS: at 94.20% examples, 110345 words/s, in_qsize 10, out_qsize 0\n",
      "2018-05-16 19:04:38,537 : INFO : EPOCH 3 - PROGRESS: at 95.08% examples, 110418 words/s, in_qsize 10, out_qsize 0\n",
      "2018-05-16 19:04:39,547 : INFO : EPOCH 3 - PROGRESS: at 95.86% examples, 110454 words/s, in_qsize 9, out_qsize 0\n",
      "2018-05-16 19:04:40,611 : INFO : EPOCH 3 - PROGRESS: at 96.63% examples, 110453 words/s, in_qsize 10, out_qsize 0\n",
      "2018-05-16 19:04:41,628 : INFO : EPOCH 3 - PROGRESS: at 97.43% examples, 110533 words/s, in_qsize 9, out_qsize 0\n",
      "2018-05-16 19:04:42,727 : INFO : EPOCH 3 - PROGRESS: at 98.12% examples, 110452 words/s, in_qsize 9, out_qsize 0\n",
      "2018-05-16 19:04:43,749 : INFO : EPOCH 3 - PROGRESS: at 99.00% examples, 110589 words/s, in_qsize 10, out_qsize 0\n",
      "2018-05-16 19:04:44,755 : INFO : EPOCH 3 - PROGRESS: at 99.75% examples, 110627 words/s, in_qsize 6, out_qsize 0\n",
      "2018-05-16 19:04:44,853 : INFO : worker thread finished; awaiting finish of 4 more threads\n",
      "2018-05-16 19:04:45,006 : INFO : worker thread finished; awaiting finish of 3 more threads\n",
      "2018-05-16 19:04:45,036 : INFO : worker thread finished; awaiting finish of 2 more threads\n",
      "2018-05-16 19:04:45,046 : INFO : worker thread finished; awaiting finish of 1 more threads\n",
      "2018-05-16 19:04:45,065 : INFO : worker thread finished; awaiting finish of 0 more threads\n",
      "2018-05-16 19:04:45,066 : INFO : EPOCH - 3 : training on 20244573 raw words (15845639 effective words) took 143.1s, 110702 effective words/s\n",
      "2018-05-16 19:04:46,278 : INFO : EPOCH 4 - PROGRESS: at 0.65% examples, 89081 words/s, in_qsize 10, out_qsize 0\n",
      "2018-05-16 19:04:47,366 : INFO : EPOCH 4 - PROGRESS: at 1.44% examples, 103890 words/s, in_qsize 10, out_qsize 0\n",
      "2018-05-16 19:04:48,410 : INFO : EPOCH 4 - PROGRESS: at 2.18% examples, 110070 words/s, in_qsize 9, out_qsize 0\n",
      "2018-05-16 19:04:49,440 : INFO : EPOCH 4 - PROGRESS: at 2.83% examples, 108659 words/s, in_qsize 9, out_qsize 0\n",
      "2018-05-16 19:04:50,579 : INFO : EPOCH 4 - PROGRESS: at 3.54% examples, 108367 words/s, in_qsize 10, out_qsize 0\n",
      "2018-05-16 19:04:51,626 : INFO : EPOCH 4 - PROGRESS: at 4.32% examples, 111134 words/s, in_qsize 9, out_qsize 0\n",
      "2018-05-16 19:04:52,681 : INFO : EPOCH 4 - PROGRESS: at 4.96% examples, 109918 words/s, in_qsize 10, out_qsize 0\n",
      "2018-05-16 19:04:53,710 : INFO : EPOCH 4 - PROGRESS: at 5.72% examples, 111136 words/s, in_qsize 9, out_qsize 0\n",
      "2018-05-16 19:04:54,758 : INFO : EPOCH 4 - PROGRESS: at 6.44% examples, 111011 words/s, in_qsize 10, out_qsize 0\n",
      "2018-05-16 19:04:55,812 : INFO : EPOCH 4 - PROGRESS: at 7.21% examples, 111567 words/s, in_qsize 10, out_qsize 0\n",
      "2018-05-16 19:04:56,885 : INFO : EPOCH 4 - PROGRESS: at 7.86% examples, 109987 words/s, in_qsize 10, out_qsize 1\n",
      "2018-05-16 19:04:57,898 : INFO : EPOCH 4 - PROGRESS: at 8.58% examples, 110362 words/s, in_qsize 10, out_qsize 0\n",
      "2018-05-16 19:04:58,898 : INFO : EPOCH 4 - PROGRESS: at 9.26% examples, 110807 words/s, in_qsize 10, out_qsize 0\n",
      "2018-05-16 19:04:59,904 : INFO : EPOCH 4 - PROGRESS: at 9.91% examples, 110590 words/s, in_qsize 10, out_qsize 0\n",
      "2018-05-16 19:05:00,904 : INFO : EPOCH 4 - PROGRESS: at 10.64% examples, 111422 words/s, in_qsize 10, out_qsize 0\n",
      "2018-05-16 19:05:01,920 : INFO : EPOCH 4 - PROGRESS: at 11.28% examples, 111149 words/s, in_qsize 10, out_qsize 0\n",
      "2018-05-16 19:05:03,031 : INFO : EPOCH 4 - PROGRESS: at 12.01% examples, 111178 words/s, in_qsize 9, out_qsize 0\n",
      "2018-05-16 19:05:04,077 : INFO : EPOCH 4 - PROGRESS: at 12.77% examples, 111527 words/s, in_qsize 9, out_qsize 0\n",
      "2018-05-16 19:05:05,126 : INFO : EPOCH 4 - PROGRESS: at 13.48% examples, 111542 words/s, in_qsize 9, out_qsize 0\n",
      "2018-05-16 19:05:06,182 : INFO : EPOCH 4 - PROGRESS: at 14.25% examples, 111804 words/s, in_qsize 9, out_qsize 0\n",
      "2018-05-16 19:05:07,213 : INFO : EPOCH 4 - PROGRESS: at 14.98% examples, 111780 words/s, in_qsize 10, out_qsize 0\n",
      "2018-05-16 19:05:08,287 : INFO : EPOCH 4 - PROGRESS: at 15.72% examples, 111946 words/s, in_qsize 10, out_qsize 0\n",
      "2018-05-16 19:05:09,413 : INFO : EPOCH 4 - PROGRESS: at 16.44% examples, 111831 words/s, in_qsize 10, out_qsize 0\n",
      "2018-05-16 19:05:10,421 : INFO : EPOCH 4 - PROGRESS: at 17.13% examples, 112236 words/s, in_qsize 9, out_qsize 0\n",
      "2018-05-16 19:05:11,497 : INFO : EPOCH 4 - PROGRESS: at 17.82% examples, 112031 words/s, in_qsize 9, out_qsize 0\n",
      "2018-05-16 19:05:12,507 : INFO : EPOCH 4 - PROGRESS: at 18.49% examples, 112189 words/s, in_qsize 9, out_qsize 0\n",
      "2018-05-16 19:05:13,626 : INFO : EPOCH 4 - PROGRESS: at 19.22% examples, 112114 words/s, in_qsize 10, out_qsize 0\n",
      "2018-05-16 19:05:14,658 : INFO : EPOCH 4 - PROGRESS: at 19.95% examples, 112392 words/s, in_qsize 10, out_qsize 0\n",
      "2018-05-16 19:05:15,663 : INFO : EPOCH 4 - PROGRESS: at 20.62% examples, 112519 words/s, in_qsize 10, out_qsize 0\n",
      "2018-05-16 19:05:16,803 : INFO : EPOCH 4 - PROGRESS: at 21.31% examples, 112134 words/s, in_qsize 9, out_qsize 0\n",
      "2018-05-16 19:05:17,812 : INFO : EPOCH 4 - PROGRESS: at 22.15% examples, 112702 words/s, in_qsize 9, out_qsize 0\n",
      "2018-05-16 19:05:18,879 : INFO : EPOCH 4 - PROGRESS: at 22.82% examples, 112378 words/s, in_qsize 9, out_qsize 0\n",
      "2018-05-16 19:05:19,949 : INFO : EPOCH 4 - PROGRESS: at 23.54% examples, 112232 words/s, in_qsize 10, out_qsize 1\n",
      "2018-05-16 19:05:20,996 : INFO : EPOCH 4 - PROGRESS: at 24.30% examples, 112592 words/s, in_qsize 9, out_qsize 0\n",
      "2018-05-16 19:05:22,083 : INFO : EPOCH 4 - PROGRESS: at 24.93% examples, 112199 words/s, in_qsize 10, out_qsize 0\n",
      "2018-05-16 19:05:23,120 : INFO : EPOCH 4 - PROGRESS: at 25.73% examples, 112597 words/s, in_qsize 10, out_qsize 0\n",
      "2018-05-16 19:05:24,149 : INFO : EPOCH 4 - PROGRESS: at 26.41% examples, 112414 words/s, in_qsize 10, out_qsize 0\n",
      "2018-05-16 19:05:25,183 : INFO : EPOCH 4 - PROGRESS: at 27.22% examples, 112791 words/s, in_qsize 10, out_qsize 0\n",
      "2018-05-16 19:05:26,295 : INFO : EPOCH 4 - PROGRESS: at 27.88% examples, 112368 words/s, in_qsize 10, out_qsize 0\n",
      "2018-05-16 19:05:27,307 : INFO : EPOCH 4 - PROGRESS: at 28.65% examples, 112598 words/s, in_qsize 10, out_qsize 0\n",
      "2018-05-16 19:05:28,340 : INFO : EPOCH 4 - PROGRESS: at 29.35% examples, 112592 words/s, in_qsize 10, out_qsize 1\n",
      "2018-05-16 19:05:29,456 : INFO : EPOCH 4 - PROGRESS: at 30.12% examples, 112553 words/s, in_qsize 9, out_qsize 0\n",
      "2018-05-16 19:05:30,519 : INFO : EPOCH 4 - PROGRESS: at 30.85% examples, 112654 words/s, in_qsize 10, out_qsize 0\n",
      "2018-05-16 19:05:31,534 : INFO : EPOCH 4 - PROGRESS: at 31.59% examples, 112700 words/s, in_qsize 10, out_qsize 0\n",
      "2018-05-16 19:05:32,658 : INFO : EPOCH 4 - PROGRESS: at 32.32% examples, 112624 words/s, in_qsize 10, out_qsize 0\n",
      "2018-05-16 19:05:33,741 : INFO : EPOCH 4 - PROGRESS: at 33.06% examples, 112665 words/s, in_qsize 10, out_qsize 0\n",
      "2018-05-16 19:05:34,788 : INFO : EPOCH 4 - PROGRESS: at 33.83% examples, 112923 words/s, in_qsize 10, out_qsize 0\n",
      "2018-05-16 19:05:35,849 : INFO : EPOCH 4 - PROGRESS: at 34.46% examples, 112668 words/s, in_qsize 10, out_qsize 0\n",
      "2018-05-16 19:05:36,882 : INFO : EPOCH 4 - PROGRESS: at 35.19% examples, 112821 words/s, in_qsize 10, out_qsize 0\n"
     ]
    },
    {
     "name": "stderr",
     "output_type": "stream",
     "text": [
      "2018-05-16 19:05:37,935 : INFO : EPOCH 4 - PROGRESS: at 35.89% examples, 112770 words/s, in_qsize 9, out_qsize 0\n",
      "2018-05-16 19:05:39,085 : INFO : EPOCH 4 - PROGRESS: at 36.70% examples, 112645 words/s, in_qsize 10, out_qsize 0\n",
      "2018-05-16 19:05:40,095 : INFO : EPOCH 4 - PROGRESS: at 37.51% examples, 112952 words/s, in_qsize 10, out_qsize 0\n",
      "2018-05-16 19:05:41,133 : INFO : EPOCH 4 - PROGRESS: at 38.16% examples, 112778 words/s, in_qsize 10, out_qsize 0\n",
      "2018-05-16 19:05:42,207 : INFO : EPOCH 4 - PROGRESS: at 38.92% examples, 112827 words/s, in_qsize 9, out_qsize 0\n",
      "2018-05-16 19:05:43,202 : INFO : EPOCH 4 - PROGRESS: at 39.69% examples, 113001 words/s, in_qsize 10, out_qsize 0\n",
      "2018-05-16 19:05:44,279 : INFO : EPOCH 4 - PROGRESS: at 40.36% examples, 112774 words/s, in_qsize 9, out_qsize 0\n",
      "2018-05-16 19:05:45,385 : INFO : EPOCH 4 - PROGRESS: at 41.12% examples, 112869 words/s, in_qsize 9, out_qsize 0\n",
      "2018-05-16 19:05:46,402 : INFO : EPOCH 4 - PROGRESS: at 41.74% examples, 112623 words/s, in_qsize 9, out_qsize 0\n",
      "2018-05-16 19:05:47,471 : INFO : EPOCH 4 - PROGRESS: at 42.45% examples, 112551 words/s, in_qsize 9, out_qsize 0\n",
      "2018-05-16 19:05:48,539 : INFO : EPOCH 4 - PROGRESS: at 43.07% examples, 112239 words/s, in_qsize 9, out_qsize 0\n",
      "2018-05-16 19:05:49,565 : INFO : EPOCH 4 - PROGRESS: at 43.66% examples, 112015 words/s, in_qsize 10, out_qsize 0\n",
      "2018-05-16 19:05:50,649 : INFO : EPOCH 4 - PROGRESS: at 44.28% examples, 111789 words/s, in_qsize 9, out_qsize 0\n",
      "2018-05-16 19:05:51,653 : INFO : EPOCH 4 - PROGRESS: at 44.95% examples, 111730 words/s, in_qsize 9, out_qsize 0\n",
      "2018-05-16 19:05:52,744 : INFO : EPOCH 4 - PROGRESS: at 45.57% examples, 111423 words/s, in_qsize 9, out_qsize 0\n",
      "2018-05-16 19:05:53,746 : INFO : EPOCH 4 - PROGRESS: at 46.15% examples, 111235 words/s, in_qsize 10, out_qsize 0\n",
      "2018-05-16 19:05:54,890 : INFO : EPOCH 4 - PROGRESS: at 46.76% examples, 110852 words/s, in_qsize 9, out_qsize 0\n",
      "2018-05-16 19:05:56,026 : INFO : EPOCH 4 - PROGRESS: at 47.49% examples, 110802 words/s, in_qsize 10, out_qsize 0\n",
      "2018-05-16 19:05:57,127 : INFO : EPOCH 4 - PROGRESS: at 48.17% examples, 110719 words/s, in_qsize 10, out_qsize 0\n",
      "2018-05-16 19:05:58,132 : INFO : EPOCH 4 - PROGRESS: at 48.88% examples, 110779 words/s, in_qsize 9, out_qsize 0\n",
      "2018-05-16 19:05:59,190 : INFO : EPOCH 4 - PROGRESS: at 49.62% examples, 110776 words/s, in_qsize 9, out_qsize 0\n",
      "2018-05-16 19:06:00,218 : INFO : EPOCH 4 - PROGRESS: at 50.37% examples, 110901 words/s, in_qsize 9, out_qsize 0\n",
      "2018-05-16 19:06:01,323 : INFO : EPOCH 4 - PROGRESS: at 51.06% examples, 110817 words/s, in_qsize 10, out_qsize 0\n",
      "2018-05-16 19:06:02,354 : INFO : EPOCH 4 - PROGRESS: at 51.80% examples, 110841 words/s, in_qsize 9, out_qsize 0\n",
      "2018-05-16 19:06:03,392 : INFO : EPOCH 4 - PROGRESS: at 52.66% examples, 111045 words/s, in_qsize 10, out_qsize 0\n",
      "2018-05-16 19:06:04,399 : INFO : EPOCH 4 - PROGRESS: at 53.44% examples, 111101 words/s, in_qsize 10, out_qsize 0\n",
      "2018-05-16 19:06:05,509 : INFO : EPOCH 4 - PROGRESS: at 54.19% examples, 111028 words/s, in_qsize 9, out_qsize 0\n",
      "2018-05-16 19:06:06,674 : INFO : EPOCH 4 - PROGRESS: at 55.05% examples, 111065 words/s, in_qsize 10, out_qsize 0\n",
      "2018-05-16 19:06:07,684 : INFO : EPOCH 4 - PROGRESS: at 55.81% examples, 111112 words/s, in_qsize 9, out_qsize 0\n",
      "2018-05-16 19:06:08,688 : INFO : EPOCH 4 - PROGRESS: at 56.49% examples, 110982 words/s, in_qsize 9, out_qsize 0\n",
      "2018-05-16 19:06:09,695 : INFO : EPOCH 4 - PROGRESS: at 57.29% examples, 111043 words/s, in_qsize 10, out_qsize 0\n",
      "2018-05-16 19:06:10,701 : INFO : EPOCH 4 - PROGRESS: at 57.96% examples, 110914 words/s, in_qsize 10, out_qsize 0\n",
      "2018-05-16 19:06:11,713 : INFO : EPOCH 4 - PROGRESS: at 58.66% examples, 110785 words/s, in_qsize 10, out_qsize 0\n",
      "2018-05-16 19:06:12,738 : INFO : EPOCH 4 - PROGRESS: at 59.29% examples, 110548 words/s, in_qsize 9, out_qsize 0\n",
      "2018-05-16 19:06:13,746 : INFO : EPOCH 4 - PROGRESS: at 60.04% examples, 110615 words/s, in_qsize 9, out_qsize 0\n",
      "2018-05-16 19:06:14,749 : INFO : EPOCH 4 - PROGRESS: at 60.68% examples, 110520 words/s, in_qsize 10, out_qsize 1\n",
      "2018-05-16 19:06:15,832 : INFO : EPOCH 4 - PROGRESS: at 61.56% examples, 110660 words/s, in_qsize 9, out_qsize 0\n",
      "2018-05-16 19:06:16,853 : INFO : EPOCH 4 - PROGRESS: at 62.41% examples, 110783 words/s, in_qsize 10, out_qsize 0\n",
      "2018-05-16 19:06:17,986 : INFO : EPOCH 4 - PROGRESS: at 63.16% examples, 110686 words/s, in_qsize 10, out_qsize 0\n",
      "2018-05-16 19:06:19,023 : INFO : EPOCH 4 - PROGRESS: at 63.97% examples, 110774 words/s, in_qsize 9, out_qsize 0\n",
      "2018-05-16 19:06:20,209 : INFO : EPOCH 4 - PROGRESS: at 64.91% examples, 110781 words/s, in_qsize 10, out_qsize 0\n",
      "2018-05-16 19:06:21,232 : INFO : EPOCH 4 - PROGRESS: at 65.66% examples, 110811 words/s, in_qsize 10, out_qsize 0\n",
      "2018-05-16 19:06:22,262 : INFO : EPOCH 4 - PROGRESS: at 66.57% examples, 110986 words/s, in_qsize 9, out_qsize 0\n",
      "2018-05-16 19:06:23,334 : INFO : EPOCH 4 - PROGRESS: at 67.27% examples, 110876 words/s, in_qsize 10, out_qsize 0\n",
      "2018-05-16 19:06:24,543 : INFO : EPOCH 4 - PROGRESS: at 68.13% examples, 110923 words/s, in_qsize 9, out_qsize 0\n",
      "2018-05-16 19:06:25,555 : INFO : EPOCH 4 - PROGRESS: at 69.01% examples, 111122 words/s, in_qsize 10, out_qsize 0\n",
      "2018-05-16 19:06:26,594 : INFO : EPOCH 4 - PROGRESS: at 69.75% examples, 111052 words/s, in_qsize 10, out_qsize 0\n",
      "2018-05-16 19:06:27,606 : INFO : EPOCH 4 - PROGRESS: at 70.59% examples, 111169 words/s, in_qsize 9, out_qsize 0\n",
      "2018-05-16 19:06:28,678 : INFO : EPOCH 4 - PROGRESS: at 71.39% examples, 111210 words/s, in_qsize 10, out_qsize 0\n",
      "2018-05-16 19:06:29,709 : INFO : EPOCH 4 - PROGRESS: at 72.08% examples, 111148 words/s, in_qsize 10, out_qsize 0\n",
      "2018-05-16 19:06:30,773 : INFO : EPOCH 4 - PROGRESS: at 72.95% examples, 111273 words/s, in_qsize 10, out_qsize 0\n",
      "2018-05-16 19:06:31,789 : INFO : EPOCH 4 - PROGRESS: at 73.76% examples, 111305 words/s, in_qsize 9, out_qsize 0\n",
      "2018-05-16 19:06:32,797 : INFO : EPOCH 4 - PROGRESS: at 74.54% examples, 111344 words/s, in_qsize 10, out_qsize 0\n",
      "2018-05-16 19:06:33,813 : INFO : EPOCH 4 - PROGRESS: at 75.27% examples, 111376 words/s, in_qsize 9, out_qsize 0\n",
      "2018-05-16 19:06:34,836 : INFO : EPOCH 4 - PROGRESS: at 76.07% examples, 111406 words/s, in_qsize 10, out_qsize 0\n",
      "2018-05-16 19:06:35,906 : INFO : EPOCH 4 - PROGRESS: at 76.84% examples, 111386 words/s, in_qsize 10, out_qsize 0\n",
      "2018-05-16 19:06:37,046 : INFO : EPOCH 4 - PROGRESS: at 77.73% examples, 111437 words/s, in_qsize 10, out_qsize 0\n",
      "2018-05-16 19:06:38,110 : INFO : EPOCH 4 - PROGRESS: at 78.57% examples, 111567 words/s, in_qsize 9, out_qsize 0\n",
      "2018-05-16 19:06:39,129 : INFO : EPOCH 4 - PROGRESS: at 79.28% examples, 111523 words/s, in_qsize 10, out_qsize 0\n",
      "2018-05-16 19:06:40,144 : INFO : EPOCH 4 - PROGRESS: at 80.16% examples, 111632 words/s, in_qsize 9, out_qsize 0\n",
      "2018-05-16 19:06:41,145 : INFO : EPOCH 4 - PROGRESS: at 80.88% examples, 111599 words/s, in_qsize 9, out_qsize 0\n",
      "2018-05-16 19:06:42,164 : INFO : EPOCH 4 - PROGRESS: at 81.61% examples, 111546 words/s, in_qsize 10, out_qsize 0\n",
      "2018-05-16 19:06:43,270 : INFO : EPOCH 4 - PROGRESS: at 82.32% examples, 111429 words/s, in_qsize 9, out_qsize 0\n",
      "2018-05-16 19:06:44,452 : INFO : EPOCH 4 - PROGRESS: at 83.27% examples, 111495 words/s, in_qsize 10, out_qsize 0\n",
      "2018-05-16 19:06:45,494 : INFO : EPOCH 4 - PROGRESS: at 84.08% examples, 111564 words/s, in_qsize 9, out_qsize 0\n",
      "2018-05-16 19:06:46,663 : INFO : EPOCH 4 - PROGRESS: at 85.00% examples, 111571 words/s, in_qsize 9, out_qsize 0\n",
      "2018-05-16 19:06:47,674 : INFO : EPOCH 4 - PROGRESS: at 85.87% examples, 111725 words/s, in_qsize 9, out_qsize 0\n",
      "2018-05-16 19:06:48,791 : INFO : EPOCH 4 - PROGRESS: at 86.60% examples, 111590 words/s, in_qsize 10, out_qsize 0\n",
      "2018-05-16 19:06:50,009 : INFO : EPOCH 4 - PROGRESS: at 87.54% examples, 111626 words/s, in_qsize 10, out_qsize 1\n",
      "2018-05-16 19:06:51,220 : INFO : EPOCH 4 - PROGRESS: at 88.43% examples, 111664 words/s, in_qsize 9, out_qsize 1\n",
      "2018-05-16 19:06:52,232 : INFO : EPOCH 4 - PROGRESS: at 89.28% examples, 111811 words/s, in_qsize 9, out_qsize 0\n",
      "2018-05-16 19:06:53,265 : INFO : EPOCH 4 - PROGRESS: at 90.02% examples, 111807 words/s, in_qsize 9, out_qsize 0\n",
      "2018-05-16 19:06:54,405 : INFO : EPOCH 4 - PROGRESS: at 90.71% examples, 111596 words/s, in_qsize 9, out_qsize 0\n"
     ]
    },
    {
     "name": "stderr",
     "output_type": "stream",
     "text": [
      "2018-05-16 19:06:55,487 : INFO : EPOCH 4 - PROGRESS: at 91.47% examples, 111561 words/s, in_qsize 10, out_qsize 0\n",
      "2018-05-16 19:06:56,501 : INFO : EPOCH 4 - PROGRESS: at 92.26% examples, 111592 words/s, in_qsize 9, out_qsize 0\n",
      "2018-05-16 19:06:57,514 : INFO : EPOCH 4 - PROGRESS: at 93.06% examples, 111670 words/s, in_qsize 10, out_qsize 0\n",
      "2018-05-16 19:06:58,559 : INFO : EPOCH 4 - PROGRESS: at 93.85% examples, 111671 words/s, in_qsize 9, out_qsize 0\n",
      "2018-05-16 19:06:59,580 : INFO : EPOCH 4 - PROGRESS: at 94.65% examples, 111684 words/s, in_qsize 9, out_qsize 0\n",
      "2018-05-16 19:07:00,693 : INFO : EPOCH 4 - PROGRESS: at 95.43% examples, 111624 words/s, in_qsize 10, out_qsize 0\n",
      "2018-05-16 19:07:01,715 : INFO : EPOCH 4 - PROGRESS: at 96.28% examples, 111707 words/s, in_qsize 9, out_qsize 0\n",
      "2018-05-16 19:07:02,768 : INFO : EPOCH 4 - PROGRESS: at 97.08% examples, 111751 words/s, in_qsize 10, out_qsize 0\n",
      "2018-05-16 19:07:03,777 : INFO : EPOCH 4 - PROGRESS: at 97.82% examples, 111780 words/s, in_qsize 10, out_qsize 0\n",
      "2018-05-16 19:07:04,821 : INFO : EPOCH 4 - PROGRESS: at 98.64% examples, 111843 words/s, in_qsize 10, out_qsize 0\n",
      "2018-05-16 19:07:05,896 : INFO : EPOCH 4 - PROGRESS: at 99.40% examples, 111811 words/s, in_qsize 9, out_qsize 0\n",
      "2018-05-16 19:07:06,373 : INFO : worker thread finished; awaiting finish of 4 more threads\n",
      "2018-05-16 19:07:06,475 : INFO : worker thread finished; awaiting finish of 3 more threads\n",
      "2018-05-16 19:07:06,564 : INFO : worker thread finished; awaiting finish of 2 more threads\n",
      "2018-05-16 19:07:06,581 : INFO : worker thread finished; awaiting finish of 1 more threads\n",
      "2018-05-16 19:07:06,617 : INFO : worker thread finished; awaiting finish of 0 more threads\n",
      "2018-05-16 19:07:06,618 : INFO : EPOCH - 4 : training on 20244573 raw words (15846488 effective words) took 141.5s, 111950 effective words/s\n",
      "2018-05-16 19:07:07,814 : INFO : EPOCH 5 - PROGRESS: at 0.65% examples, 90153 words/s, in_qsize 9, out_qsize 0\n",
      "2018-05-16 19:07:08,915 : INFO : EPOCH 5 - PROGRESS: at 1.42% examples, 103886 words/s, in_qsize 10, out_qsize 0\n",
      "2018-05-16 19:07:09,924 : INFO : EPOCH 5 - PROGRESS: at 2.00% examples, 101998 words/s, in_qsize 10, out_qsize 0\n",
      "2018-05-16 19:07:11,024 : INFO : EPOCH 5 - PROGRESS: at 2.73% examples, 104464 words/s, in_qsize 10, out_qsize 0\n",
      "2018-05-16 19:07:12,042 : INFO : EPOCH 5 - PROGRESS: at 3.44% examples, 107327 words/s, in_qsize 10, out_qsize 0\n",
      "2018-05-16 19:07:13,055 : INFO : EPOCH 5 - PROGRESS: at 4.14% examples, 108435 words/s, in_qsize 9, out_qsize 0\n",
      "2018-05-16 19:07:14,111 : INFO : EPOCH 5 - PROGRESS: at 4.78% examples, 107606 words/s, in_qsize 9, out_qsize 1\n",
      "2018-05-16 19:07:15,210 : INFO : EPOCH 5 - PROGRESS: at 5.43% examples, 106447 words/s, in_qsize 10, out_qsize 0\n",
      "2018-05-16 19:07:16,262 : INFO : EPOCH 5 - PROGRESS: at 6.15% examples, 106838 words/s, in_qsize 10, out_qsize 0\n",
      "2018-05-16 19:07:17,396 : INFO : EPOCH 5 - PROGRESS: at 6.92% examples, 106966 words/s, in_qsize 10, out_qsize 0\n",
      "2018-05-16 19:07:18,431 : INFO : EPOCH 5 - PROGRESS: at 7.70% examples, 108091 words/s, in_qsize 10, out_qsize 0\n",
      "2018-05-16 19:07:19,444 : INFO : EPOCH 5 - PROGRESS: at 8.43% examples, 108631 words/s, in_qsize 10, out_qsize 0\n",
      "2018-05-16 19:07:20,481 : INFO : EPOCH 5 - PROGRESS: at 9.08% examples, 108312 words/s, in_qsize 10, out_qsize 0\n",
      "2018-05-16 19:07:21,566 : INFO : EPOCH 5 - PROGRESS: at 9.79% examples, 108201 words/s, in_qsize 10, out_qsize 0\n",
      "2018-05-16 19:07:22,603 : INFO : EPOCH 5 - PROGRESS: at 10.50% examples, 108943 words/s, in_qsize 10, out_qsize 0\n",
      "2018-05-16 19:07:23,634 : INFO : EPOCH 5 - PROGRESS: at 11.16% examples, 108707 words/s, in_qsize 10, out_qsize 0\n",
      "2018-05-16 19:07:24,689 : INFO : EPOCH 5 - PROGRESS: at 11.82% examples, 108867 words/s, in_qsize 9, out_qsize 0\n",
      "2018-05-16 19:07:25,828 : INFO : EPOCH 5 - PROGRESS: at 12.49% examples, 107960 words/s, in_qsize 9, out_qsize 0\n",
      "2018-05-16 19:07:27,027 : INFO : EPOCH 5 - PROGRESS: at 13.33% examples, 108441 words/s, in_qsize 9, out_qsize 0\n",
      "2018-05-16 19:07:28,060 : INFO : EPOCH 5 - PROGRESS: at 14.15% examples, 109358 words/s, in_qsize 10, out_qsize 0\n",
      "2018-05-16 19:07:29,104 : INFO : EPOCH 5 - PROGRESS: at 14.83% examples, 109055 words/s, in_qsize 10, out_qsize 0\n",
      "2018-05-16 19:07:30,200 : INFO : EPOCH 5 - PROGRESS: at 15.47% examples, 108610 words/s, in_qsize 9, out_qsize 0\n",
      "2018-05-16 19:07:31,208 : INFO : EPOCH 5 - PROGRESS: at 16.16% examples, 108820 words/s, in_qsize 9, out_qsize 0\n",
      "2018-05-16 19:07:32,279 : INFO : EPOCH 5 - PROGRESS: at 16.88% examples, 109090 words/s, in_qsize 10, out_qsize 0\n",
      "2018-05-16 19:07:33,366 : INFO : EPOCH 5 - PROGRESS: at 17.48% examples, 108681 words/s, in_qsize 10, out_qsize 0\n",
      "2018-05-16 19:07:34,430 : INFO : EPOCH 5 - PROGRESS: at 18.21% examples, 109008 words/s, in_qsize 10, out_qsize 0\n",
      "2018-05-16 19:07:35,440 : INFO : EPOCH 5 - PROGRESS: at 18.85% examples, 108976 words/s, in_qsize 9, out_qsize 0\n",
      "2018-05-16 19:07:36,454 : INFO : EPOCH 5 - PROGRESS: at 19.55% examples, 109142 words/s, in_qsize 10, out_qsize 0\n",
      "2018-05-16 19:07:37,494 : INFO : EPOCH 5 - PROGRESS: at 20.21% examples, 109230 words/s, in_qsize 10, out_qsize 0\n",
      "2018-05-16 19:07:38,585 : INFO : EPOCH 5 - PROGRESS: at 20.90% examples, 109158 words/s, in_qsize 10, out_qsize 0\n",
      "2018-05-16 19:07:39,611 : INFO : EPOCH 5 - PROGRESS: at 21.61% examples, 109290 words/s, in_qsize 10, out_qsize 0\n",
      "2018-05-16 19:07:40,739 : INFO : EPOCH 5 - PROGRESS: at 22.39% examples, 109309 words/s, in_qsize 10, out_qsize 0\n",
      "2018-05-16 19:07:41,746 : INFO : EPOCH 5 - PROGRESS: at 23.10% examples, 109471 words/s, in_qsize 9, out_qsize 0\n",
      "2018-05-16 19:07:42,778 : INFO : EPOCH 5 - PROGRESS: at 23.87% examples, 109757 words/s, in_qsize 10, out_qsize 0\n",
      "2018-05-16 19:07:43,929 : INFO : EPOCH 5 - PROGRESS: at 24.54% examples, 109465 words/s, in_qsize 10, out_qsize 0\n",
      "2018-05-16 19:07:44,962 : INFO : EPOCH 5 - PROGRESS: at 25.27% examples, 109770 words/s, in_qsize 9, out_qsize 0\n",
      "2018-05-16 19:07:46,042 : INFO : EPOCH 5 - PROGRESS: at 26.03% examples, 109895 words/s, in_qsize 10, out_qsize 0\n",
      "2018-05-16 19:07:47,147 : INFO : EPOCH 5 - PROGRESS: at 26.76% examples, 109760 words/s, in_qsize 9, out_qsize 0\n",
      "2018-05-16 19:07:48,234 : INFO : EPOCH 5 - PROGRESS: at 27.50% examples, 109839 words/s, in_qsize 10, out_qsize 0\n",
      "2018-05-16 19:07:49,280 : INFO : EPOCH 5 - PROGRESS: at 28.23% examples, 109866 words/s, in_qsize 10, out_qsize 0\n",
      "2018-05-16 19:07:50,378 : INFO : EPOCH 5 - PROGRESS: at 28.98% examples, 109946 words/s, in_qsize 9, out_qsize 0\n",
      "2018-05-16 19:07:51,396 : INFO : EPOCH 5 - PROGRESS: at 29.58% examples, 109697 words/s, in_qsize 9, out_qsize 0\n",
      "2018-05-16 19:07:52,469 : INFO : EPOCH 5 - PROGRESS: at 30.21% examples, 109323 words/s, in_qsize 10, out_qsize 0\n",
      "2018-05-16 19:07:53,473 : INFO : EPOCH 5 - PROGRESS: at 30.85% examples, 109298 words/s, in_qsize 10, out_qsize 0\n",
      "2018-05-16 19:07:54,552 : INFO : EPOCH 5 - PROGRESS: at 31.38% examples, 108623 words/s, in_qsize 10, out_qsize 0\n",
      "2018-05-16 19:07:55,662 : INFO : EPOCH 5 - PROGRESS: at 31.90% examples, 107886 words/s, in_qsize 10, out_qsize 0\n",
      "2018-05-16 19:07:56,815 : INFO : EPOCH 5 - PROGRESS: at 32.56% examples, 107565 words/s, in_qsize 10, out_qsize 0\n",
      "2018-05-16 19:07:57,907 : INFO : EPOCH 5 - PROGRESS: at 33.06% examples, 106939 words/s, in_qsize 10, out_qsize 0\n",
      "2018-05-16 19:07:58,915 : INFO : EPOCH 5 - PROGRESS: at 33.69% examples, 106933 words/s, in_qsize 9, out_qsize 0\n",
      "2018-05-16 19:07:59,920 : INFO : EPOCH 5 - PROGRESS: at 34.23% examples, 106631 words/s, in_qsize 10, out_qsize 0\n",
      "2018-05-16 19:08:01,035 : INFO : EPOCH 5 - PROGRESS: at 34.74% examples, 106014 words/s, in_qsize 10, out_qsize 0\n",
      "2018-05-16 19:08:02,098 : INFO : EPOCH 5 - PROGRESS: at 35.33% examples, 105797 words/s, in_qsize 10, out_qsize 0\n",
      "2018-05-16 19:08:03,149 : INFO : EPOCH 5 - PROGRESS: at 35.98% examples, 105745 words/s, in_qsize 10, out_qsize 0\n",
      "2018-05-16 19:08:04,158 : INFO : EPOCH 5 - PROGRESS: at 36.49% examples, 105229 words/s, in_qsize 10, out_qsize 0\n",
      "2018-05-16 19:08:05,235 : INFO : EPOCH 5 - PROGRESS: at 37.07% examples, 104866 words/s, in_qsize 10, out_qsize 0\n",
      "2018-05-16 19:08:06,257 : INFO : EPOCH 5 - PROGRESS: at 37.74% examples, 104868 words/s, in_qsize 9, out_qsize 0\n"
     ]
    },
    {
     "name": "stderr",
     "output_type": "stream",
     "text": [
      "2018-05-16 19:08:07,416 : INFO : EPOCH 5 - PROGRESS: at 38.47% examples, 104782 words/s, in_qsize 10, out_qsize 1\n",
      "2018-05-16 19:08:08,463 : INFO : EPOCH 5 - PROGRESS: at 39.16% examples, 104867 words/s, in_qsize 10, out_qsize 0\n",
      "2018-05-16 19:08:09,470 : INFO : EPOCH 5 - PROGRESS: at 39.79% examples, 104787 words/s, in_qsize 10, out_qsize 0\n",
      "2018-05-16 19:08:10,642 : INFO : EPOCH 5 - PROGRESS: at 40.45% examples, 104553 words/s, in_qsize 10, out_qsize 0\n",
      "2018-05-16 19:08:11,853 : INFO : EPOCH 5 - PROGRESS: at 41.12% examples, 104361 words/s, in_qsize 10, out_qsize 0\n",
      "2018-05-16 19:08:12,855 : INFO : EPOCH 5 - PROGRESS: at 41.78% examples, 104418 words/s, in_qsize 10, out_qsize 0\n",
      "2018-05-16 19:08:13,906 : INFO : EPOCH 5 - PROGRESS: at 42.45% examples, 104407 words/s, in_qsize 9, out_qsize 0\n",
      "2018-05-16 19:08:14,920 : INFO : EPOCH 5 - PROGRESS: at 43.06% examples, 104330 words/s, in_qsize 10, out_qsize 1\n",
      "2018-05-16 19:08:15,980 : INFO : EPOCH 5 - PROGRESS: at 43.80% examples, 104495 words/s, in_qsize 10, out_qsize 0\n",
      "2018-05-16 19:08:16,998 : INFO : EPOCH 5 - PROGRESS: at 44.36% examples, 104395 words/s, in_qsize 10, out_qsize 0\n",
      "2018-05-16 19:08:18,037 : INFO : EPOCH 5 - PROGRESS: at 44.99% examples, 104283 words/s, in_qsize 10, out_qsize 0\n",
      "2018-05-16 19:08:19,091 : INFO : EPOCH 5 - PROGRESS: at 45.66% examples, 104266 words/s, in_qsize 9, out_qsize 0\n",
      "2018-05-16 19:08:20,158 : INFO : EPOCH 5 - PROGRESS: at 46.37% examples, 104413 words/s, in_qsize 10, out_qsize 0\n",
      "2018-05-16 19:08:21,177 : INFO : EPOCH 5 - PROGRESS: at 47.00% examples, 104327 words/s, in_qsize 10, out_qsize 0\n",
      "2018-05-16 19:08:22,347 : INFO : EPOCH 5 - PROGRESS: at 47.76% examples, 104441 words/s, in_qsize 10, out_qsize 0\n",
      "2018-05-16 19:08:23,423 : INFO : EPOCH 5 - PROGRESS: at 48.47% examples, 104479 words/s, in_qsize 10, out_qsize 0\n",
      "2018-05-16 19:08:24,434 : INFO : EPOCH 5 - PROGRESS: at 49.13% examples, 104516 words/s, in_qsize 10, out_qsize 0\n",
      "2018-05-16 19:08:25,463 : INFO : EPOCH 5 - PROGRESS: at 49.77% examples, 104429 words/s, in_qsize 9, out_qsize 0\n",
      "2018-05-16 19:08:26,464 : INFO : EPOCH 5 - PROGRESS: at 50.47% examples, 104569 words/s, in_qsize 10, out_qsize 0\n",
      "2018-05-16 19:08:27,519 : INFO : EPOCH 5 - PROGRESS: at 51.06% examples, 104452 words/s, in_qsize 10, out_qsize 0\n",
      "2018-05-16 19:08:28,541 : INFO : EPOCH 5 - PROGRESS: at 51.76% examples, 104464 words/s, in_qsize 10, out_qsize 1\n",
      "2018-05-16 19:08:29,586 : INFO : EPOCH 5 - PROGRESS: at 52.40% examples, 104362 words/s, in_qsize 10, out_qsize 0\n",
      "2018-05-16 19:08:30,586 : INFO : EPOCH 5 - PROGRESS: at 53.19% examples, 104501 words/s, in_qsize 10, out_qsize 0\n",
      "2018-05-16 19:08:31,607 : INFO : EPOCH 5 - PROGRESS: at 53.88% examples, 104533 words/s, in_qsize 10, out_qsize 0\n",
      "2018-05-16 19:08:32,729 : INFO : EPOCH 5 - PROGRESS: at 54.70% examples, 104630 words/s, in_qsize 9, out_qsize 0\n",
      "2018-05-16 19:08:33,738 : INFO : EPOCH 5 - PROGRESS: at 55.36% examples, 104565 words/s, in_qsize 10, out_qsize 0\n",
      "2018-05-16 19:08:34,786 : INFO : EPOCH 5 - PROGRESS: at 56.02% examples, 104464 words/s, in_qsize 10, out_qsize 0\n",
      "2018-05-16 19:08:35,815 : INFO : EPOCH 5 - PROGRESS: at 56.88% examples, 104650 words/s, in_qsize 10, out_qsize 0\n",
      "2018-05-16 19:08:36,987 : INFO : EPOCH 5 - PROGRESS: at 57.69% examples, 104670 words/s, in_qsize 10, out_qsize 0\n",
      "2018-05-16 19:08:37,991 : INFO : EPOCH 5 - PROGRESS: at 58.49% examples, 104791 words/s, in_qsize 9, out_qsize 0\n",
      "2018-05-16 19:08:39,027 : INFO : EPOCH 5 - PROGRESS: at 59.34% examples, 104953 words/s, in_qsize 9, out_qsize 0\n",
      "2018-05-16 19:08:40,092 : INFO : EPOCH 5 - PROGRESS: at 60.09% examples, 105016 words/s, in_qsize 10, out_qsize 0\n",
      "2018-05-16 19:08:41,119 : INFO : EPOCH 5 - PROGRESS: at 60.88% examples, 105201 words/s, in_qsize 9, out_qsize 0\n",
      "2018-05-16 19:08:42,251 : INFO : EPOCH 5 - PROGRESS: at 61.73% examples, 105261 words/s, in_qsize 10, out_qsize 0\n",
      "2018-05-16 19:08:43,292 : INFO : EPOCH 5 - PROGRESS: at 62.51% examples, 105330 words/s, in_qsize 10, out_qsize 0\n",
      "2018-05-16 19:08:44,298 : INFO : EPOCH 5 - PROGRESS: at 63.22% examples, 105359 words/s, in_qsize 10, out_qsize 0\n",
      "2018-05-16 19:08:45,355 : INFO : EPOCH 5 - PROGRESS: at 63.97% examples, 105414 words/s, in_qsize 9, out_qsize 0\n",
      "2018-05-16 19:08:46,524 : INFO : EPOCH 5 - PROGRESS: at 64.77% examples, 105261 words/s, in_qsize 9, out_qsize 0\n",
      "2018-05-16 19:08:47,544 : INFO : EPOCH 5 - PROGRESS: at 65.45% examples, 105262 words/s, in_qsize 10, out_qsize 0\n",
      "2018-05-16 19:08:48,687 : INFO : EPOCH 5 - PROGRESS: at 66.19% examples, 105146 words/s, in_qsize 10, out_qsize 0\n",
      "2018-05-16 19:08:49,693 : INFO : EPOCH 5 - PROGRESS: at 67.06% examples, 105395 words/s, in_qsize 10, out_qsize 0\n",
      "2018-05-16 19:08:50,722 : INFO : EPOCH 5 - PROGRESS: at 67.66% examples, 105249 words/s, in_qsize 9, out_qsize 0\n",
      "2018-05-16 19:08:51,761 : INFO : EPOCH 5 - PROGRESS: at 68.44% examples, 105381 words/s, in_qsize 9, out_qsize 0\n",
      "2018-05-16 19:08:52,810 : INFO : EPOCH 5 - PROGRESS: at 69.22% examples, 105435 words/s, in_qsize 10, out_qsize 0\n",
      "2018-05-16 19:08:53,945 : INFO : EPOCH 5 - PROGRESS: at 69.94% examples, 105326 words/s, in_qsize 9, out_qsize 1\n",
      "2018-05-16 19:08:55,145 : INFO : EPOCH 5 - PROGRESS: at 70.88% examples, 105441 words/s, in_qsize 10, out_qsize 0\n",
      "2018-05-16 19:08:56,357 : INFO : EPOCH 5 - PROGRESS: at 71.81% examples, 105558 words/s, in_qsize 9, out_qsize 0\n",
      "2018-05-16 19:08:57,614 : INFO : EPOCH 5 - PROGRESS: at 72.70% examples, 105617 words/s, in_qsize 10, out_qsize 0\n",
      "2018-05-16 19:08:58,614 : INFO : EPOCH 5 - PROGRESS: at 73.37% examples, 105574 words/s, in_qsize 10, out_qsize 0\n",
      "2018-05-16 19:08:59,622 : INFO : EPOCH 5 - PROGRESS: at 74.14% examples, 105590 words/s, in_qsize 10, out_qsize 0\n",
      "2018-05-16 19:09:00,752 : INFO : EPOCH 5 - PROGRESS: at 74.89% examples, 105573 words/s, in_qsize 10, out_qsize 0\n",
      "2018-05-16 19:09:02,000 : INFO : EPOCH 5 - PROGRESS: at 75.80% examples, 105639 words/s, in_qsize 10, out_qsize 0\n",
      "2018-05-16 19:09:03,052 : INFO : EPOCH 5 - PROGRESS: at 76.68% examples, 105823 words/s, in_qsize 10, out_qsize 0\n",
      "2018-05-16 19:09:04,113 : INFO : EPOCH 5 - PROGRESS: at 77.45% examples, 105875 words/s, in_qsize 10, out_qsize 0\n",
      "2018-05-16 19:09:05,175 : INFO : EPOCH 5 - PROGRESS: at 78.23% examples, 105901 words/s, in_qsize 9, out_qsize 0\n",
      "2018-05-16 19:09:06,191 : INFO : EPOCH 5 - PROGRESS: at 79.01% examples, 106040 words/s, in_qsize 10, out_qsize 0\n",
      "2018-05-16 19:09:07,209 : INFO : EPOCH 5 - PROGRESS: at 79.83% examples, 106121 words/s, in_qsize 9, out_qsize 0\n",
      "2018-05-16 19:09:08,286 : INFO : EPOCH 5 - PROGRESS: at 80.63% examples, 106142 words/s, in_qsize 10, out_qsize 0\n",
      "2018-05-16 19:09:09,318 : INFO : EPOCH 5 - PROGRESS: at 81.44% examples, 106252 words/s, in_qsize 10, out_qsize 0\n",
      "2018-05-16 19:09:10,437 : INFO : EPOCH 5 - PROGRESS: at 82.32% examples, 106360 words/s, in_qsize 9, out_qsize 0\n",
      "2018-05-16 19:09:11,449 : INFO : EPOCH 5 - PROGRESS: at 83.07% examples, 106365 words/s, in_qsize 10, out_qsize 0\n",
      "2018-05-16 19:09:12,451 : INFO : EPOCH 5 - PROGRESS: at 83.91% examples, 106498 words/s, in_qsize 10, out_qsize 0\n",
      "2018-05-16 19:09:13,469 : INFO : EPOCH 5 - PROGRESS: at 84.50% examples, 106320 words/s, in_qsize 10, out_qsize 0\n",
      "2018-05-16 19:09:14,599 : INFO : EPOCH 5 - PROGRESS: at 85.32% examples, 106353 words/s, in_qsize 10, out_qsize 0\n",
      "2018-05-16 19:09:15,663 : INFO : EPOCH 5 - PROGRESS: at 86.01% examples, 106320 words/s, in_qsize 10, out_qsize 0\n",
      "2018-05-16 19:09:16,701 : INFO : EPOCH 5 - PROGRESS: at 86.85% examples, 106429 words/s, in_qsize 10, out_qsize 1\n",
      "2018-05-16 19:09:17,736 : INFO : EPOCH 5 - PROGRESS: at 87.69% examples, 106540 words/s, in_qsize 10, out_qsize 0\n",
      "2018-05-16 19:09:18,827 : INFO : EPOCH 5 - PROGRESS: at 88.43% examples, 106540 words/s, in_qsize 10, out_qsize 0\n",
      "2018-05-16 19:09:19,855 : INFO : EPOCH 5 - PROGRESS: at 89.23% examples, 106655 words/s, in_qsize 9, out_qsize 0\n",
      "2018-05-16 19:09:20,875 : INFO : EPOCH 5 - PROGRESS: at 89.91% examples, 106640 words/s, in_qsize 10, out_qsize 0\n",
      "2018-05-16 19:09:21,932 : INFO : EPOCH 5 - PROGRESS: at 90.80% examples, 106774 words/s, in_qsize 9, out_qsize 0\n",
      "2018-05-16 19:09:22,966 : INFO : EPOCH 5 - PROGRESS: at 91.42% examples, 106646 words/s, in_qsize 9, out_qsize 0\n",
      "2018-05-16 19:09:23,984 : INFO : EPOCH 5 - PROGRESS: at 92.26% examples, 106758 words/s, in_qsize 10, out_qsize 0\n"
     ]
    },
    {
     "name": "stderr",
     "output_type": "stream",
     "text": [
      "2018-05-16 19:09:25,023 : INFO : EPOCH 5 - PROGRESS: at 93.00% examples, 106796 words/s, in_qsize 10, out_qsize 0\n",
      "2018-05-16 19:09:26,033 : INFO : EPOCH 5 - PROGRESS: at 93.80% examples, 106863 words/s, in_qsize 9, out_qsize 0\n",
      "2018-05-16 19:09:27,140 : INFO : EPOCH 5 - PROGRESS: at 94.65% examples, 106897 words/s, in_qsize 9, out_qsize 0\n",
      "2018-05-16 19:09:28,190 : INFO : EPOCH 5 - PROGRESS: at 95.43% examples, 106927 words/s, in_qsize 10, out_qsize 0\n",
      "2018-05-16 19:09:29,213 : INFO : EPOCH 5 - PROGRESS: at 96.23% examples, 106977 words/s, in_qsize 10, out_qsize 0\n",
      "2018-05-16 19:09:30,218 : INFO : EPOCH 5 - PROGRESS: at 96.97% examples, 107044 words/s, in_qsize 9, out_qsize 0\n",
      "2018-05-16 19:09:31,243 : INFO : EPOCH 5 - PROGRESS: at 97.72% examples, 107083 words/s, in_qsize 9, out_qsize 0\n",
      "2018-05-16 19:09:32,381 : INFO : EPOCH 5 - PROGRESS: at 98.60% examples, 107165 words/s, in_qsize 10, out_qsize 0\n",
      "2018-05-16 19:09:33,456 : INFO : EPOCH 5 - PROGRESS: at 99.40% examples, 107221 words/s, in_qsize 10, out_qsize 0\n",
      "2018-05-16 19:09:34,189 : INFO : worker thread finished; awaiting finish of 4 more threads\n",
      "2018-05-16 19:09:34,217 : INFO : worker thread finished; awaiting finish of 3 more threads\n",
      "2018-05-16 19:09:34,273 : INFO : worker thread finished; awaiting finish of 2 more threads\n",
      "2018-05-16 19:09:34,367 : INFO : worker thread finished; awaiting finish of 1 more threads\n",
      "2018-05-16 19:09:34,372 : INFO : worker thread finished; awaiting finish of 0 more threads\n",
      "2018-05-16 19:09:34,372 : INFO : EPOCH - 5 : training on 20244573 raw words (15844471 effective words) took 147.8s, 107236 effective words/s\n",
      "2018-05-16 19:09:34,373 : INFO : training on a 101222865 raw words (79227769 effective words) took 716.7s, 110541 effective words/s\n"
     ]
    }
   ],
   "source": [
    "model = gensim.models.Word2Vec(train_comment_words + test_comment_words, sg=model_sg, size=model_size, \n",
    "                               min_count=model_min_count,\n",
    "                               negative=model_negative, window=model_window,\n",
    "                               workers=5)"
   ]
  },
  {
   "cell_type": "code",
   "execution_count": 29,
   "metadata": {},
   "outputs": [
    {
     "name": "stderr",
     "output_type": "stream",
     "text": [
      "2018-05-16 19:09:34,382 : INFO : saving Word2Vec object under ../word_embeddings/model_sg_1_size_200_min_count_2_negative_10_window_10, separately None\n",
      "2018-05-16 19:09:34,383 : INFO : storing np array 'vectors' to ../word_embeddings/model_sg_1_size_200_min_count_2_negative_10_window_10.wv.vectors.npy\n",
      "2018-05-16 19:09:34,889 : INFO : not storing attribute vectors_norm\n",
      "2018-05-16 19:09:34,889 : INFO : storing np array 'syn1neg' to ../word_embeddings/model_sg_1_size_200_min_count_2_negative_10_window_10.trainables.syn1neg.npy\n",
      "2018-05-16 19:09:35,382 : INFO : not storing attribute cum_table\n",
      "2018-05-16 19:09:37,800 : INFO : saved ../word_embeddings/model_sg_1_size_200_min_count_2_negative_10_window_10\n"
     ]
    }
   ],
   "source": [
    "model.save('{}model_sg_{}_size_{}_min_count_{}_negative_{}_window_{}'.format(WORD_EMBEDDINGS_PATH, \n",
    "                                                                             model_sg, model_size,\n",
    "                                                                             model_min_count,\n",
    "                                                                             model_negative,\n",
    "                                                                             model_window))"
   ]
  }
 ],
 "metadata": {
  "kernelspec": {
   "display_name": "Python 2",
   "language": "python",
   "name": "python2"
  },
  "language_info": {
   "codemirror_mode": {
    "name": "ipython",
    "version": 2
   },
   "file_extension": ".py",
   "mimetype": "text/x-python",
   "name": "python",
   "nbconvert_exporter": "python",
   "pygments_lexer": "ipython2",
   "version": "2.7.14"
  }
 },
 "nbformat": 4,
 "nbformat_minor": 2
}
