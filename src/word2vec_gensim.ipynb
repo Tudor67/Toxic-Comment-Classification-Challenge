{
 "cells": [
  {
   "cell_type": "markdown",
   "metadata": {},
   "source": [
    "## Content\n",
    "1. [Load data](#1.-Load-data)  \n",
    "2. [Diving into data](#2.-Diving-into-data)  \n",
    "3. [Data preprocessing](#3.-Data-preprocessing)  \n",
    "4. [Training word2vec model](#4.-Training-word2vec-model)  "
   ]
  },
  {
   "cell_type": "code",
   "execution_count": 1,
   "metadata": {
    "collapsed": true
   },
   "outputs": [],
   "source": [
    "import numpy as np\n",
    "import pandas as pd\n",
    "\n",
    "from pprint import pprint\n",
    "from tqdm import tqdm\n",
    "\n",
    "IN_PATH = '../data/'\n",
    "WORD_EMBEDDINGS_PATH = '../word_embeddings/'\n",
    "MAX_NR_OF_COMMENTS = None\n",
    "target_classes = ['toxic', 'severe_toxic', 'obscene', 'threat', 'insult', 'identity_hate']"
   ]
  },
  {
   "cell_type": "markdown",
   "metadata": {},
   "source": [
    "## 1. Load data"
   ]
  },
  {
   "cell_type": "code",
   "execution_count": 2,
   "metadata": {
    "collapsed": true
   },
   "outputs": [],
   "source": [
    "train_df = pd.read_csv(IN_PATH + 'train.csv', encoding='utf8')\n",
    "test_df = pd.read_csv(IN_PATH + 'test.csv', encoding='utf8')"
   ]
  },
  {
   "cell_type": "code",
   "execution_count": 3,
   "metadata": {},
   "outputs": [],
   "source": [
    "if MAX_NR_OF_COMMENTS is not None:\n",
    "    print('MAX_NR_OF_COMMENTS: {}'.format(MAX_NR_OF_COMMENTS))\n",
    "    train_df = train_df.head(MAX_NR_OF_COMMENTS)\n",
    "    test_df = test_df.head(MAX_NR_OF_COMMENTS)"
   ]
  },
  {
   "cell_type": "markdown",
   "metadata": {},
   "source": [
    "## 2. Diving into data"
   ]
  },
  {
   "cell_type": "markdown",
   "metadata": {},
   "source": [
    "### 2.1 General info"
   ]
  },
  {
   "cell_type": "code",
   "execution_count": 4,
   "metadata": {},
   "outputs": [
    {
     "name": "stdout",
     "output_type": "stream",
     "text": [
      "                 id                                       comment_text  toxic  \\\n",
      "0  0000997932d777bf  Explanation\\nWhy the edits made under my usern...      0   \n",
      "1  000103f0d9cfb60f  D'aww! He matches this background colour I'm s...      0   \n",
      "2  000113f07ec002fd  Hey man, I'm really not trying to edit war. It...      0   \n",
      "3  0001b41b1c6bb37e  \"\\nMore\\nI can't make any real suggestions on ...      0   \n",
      "4  0001d958c54c6e35  You, sir, are my hero. Any chance you remember...      0   \n",
      "\n",
      "   severe_toxic  obscene  threat  insult  identity_hate  \n",
      "0             0        0       0       0              0  \n",
      "1             0        0       0       0              0  \n",
      "2             0        0       0       0              0  \n",
      "3             0        0       0       0              0  \n",
      "4             0        0       0       0              0  \n"
     ]
    }
   ],
   "source": [
    "print(train_df[0:5])"
   ]
  },
  {
   "cell_type": "code",
   "execution_count": 5,
   "metadata": {},
   "outputs": [
    {
     "name": "stdout",
     "output_type": "stream",
     "text": [
      "Explanation\n",
      "Why the edits made under my username Hardcore Metallica Fan were reverted? They weren't vandalisms, just closure on some GAs after I voted at New York Dolls FAC. And please don't remove the template from the talk page since I'm retired now.89.205.38.27\n"
     ]
    }
   ],
   "source": [
    "comment = train_df['comment_text'][0]\n",
    "print(comment)"
   ]
  },
  {
   "cell_type": "code",
   "execution_count": 6,
   "metadata": {},
   "outputs": [
    {
     "name": "stdout",
     "output_type": "stream",
     "text": [
      "<type 'unicode'>\n"
     ]
    }
   ],
   "source": [
    "print(type(comment))"
   ]
  },
  {
   "cell_type": "code",
   "execution_count": 7,
   "metadata": {},
   "outputs": [
    {
     "name": "stdout",
     "output_type": "stream",
     "text": [
      "(159571, 8)\n",
      "(153164, 2)\n"
     ]
    }
   ],
   "source": [
    "print(train_df.shape)\n",
    "print(test_df.shape)"
   ]
  },
  {
   "cell_type": "markdown",
   "metadata": {},
   "source": [
    "### 2.2 Data distribution"
   ]
  },
  {
   "cell_type": "code",
   "execution_count": 8,
   "metadata": {
    "collapsed": true
   },
   "outputs": [],
   "source": [
    "def comments_lengths_char(df):\n",
    "    return [len(comment) for comment in df['comment_text']]"
   ]
  },
  {
   "cell_type": "code",
   "execution_count": 9,
   "metadata": {
    "collapsed": true
   },
   "outputs": [],
   "source": [
    "train_comments_lengths_chars = comments_lengths_char(train_df)\n",
    "test_comments_lengths_chars = comments_lengths_char(test_df)"
   ]
  },
  {
   "cell_type": "code",
   "execution_count": 10,
   "metadata": {
    "collapsed": true
   },
   "outputs": [],
   "source": [
    "from nltk.tokenize import WordPunctTokenizer\n",
    "word_punct_tokenizer = WordPunctTokenizer()\n",
    "\n",
    "def comments_lengths_words(df):\n",
    "    lengths = list()\n",
    "    words = list()\n",
    "    n = 0\n",
    "    \n",
    "    for comment in df['comment_text']:\n",
    "        words.append([])\n",
    "        comment_length = 0\n",
    "        \n",
    "        for word in word_punct_tokenizer.tokenize(comment):\n",
    "            if word.isalpha():\n",
    "                comment_length += 1\n",
    "                words[n].append(word)\n",
    "                \n",
    "        lengths.append(comment_length)\n",
    "        n += 1\n",
    "        \n",
    "    return (lengths, words)"
   ]
  },
  {
   "cell_type": "code",
   "execution_count": 11,
   "metadata": {
    "collapsed": true
   },
   "outputs": [],
   "source": [
    "(train_comments_lengths_words, train_comment_words) = comments_lengths_words(train_df)\n",
    "(test_comments_lengths_words, test_comment_words) = comments_lengths_words(test_df)"
   ]
  },
  {
   "cell_type": "code",
   "execution_count": 12,
   "metadata": {},
   "outputs": [
    {
     "name": "stdout",
     "output_type": "stream",
     "text": [
      "[u'Explanation', u'Why', u'the', u'edits', u'made', u'under', u'my', u'username', u'Hardcore', u'Metallica', u'Fan', u'were', u'reverted', u'?', u'They', u'weren', u\"'\", u't', u'vandalisms', u',', u'just', u'closure', u'on', u'some', u'GAs', u'after', u'I', u'voted', u'at', u'New', u'York', u'Dolls', u'FAC', u'.', u'And', u'please', u'don', u\"'\", u't', u'remove', u'the', u'template', u'from', u'the', u'talk', u'page', u'since', u'I', u\"'\", u'm', u'retired', u'now', u'.', u'89', u'.', u'205', u'.', u'38', u'.', u'27']\n",
      "[u'Explanation', u'Why', u'the', u'edits', u'made', u'under', u'my', u'username', u'Hardcore', u'Metallica', u'Fan', u'were', u'reverted', u'They', u'weren', u't', u'vandalisms', u'just', u'closure', u'on', u'some', u'GAs', u'after', u'I', u'voted', u'at', u'New', u'York', u'Dolls', u'FAC', u'And', u'please', u'don', u't', u'remove', u'the', u'template', u'from', u'the', u'talk', u'page', u'since', u'I', u'm', u'retired', u'now']\n"
     ]
    }
   ],
   "source": [
    "comment_0_words = word_punct_tokenizer.tokenize(train_df['comment_text'][0])\n",
    "filtered_comment_0_words = train_comment_words[0]\n",
    "\n",
    "print(comment_0_words)\n",
    "print(filtered_comment_0_words)"
   ]
  },
  {
   "cell_type": "code",
   "execution_count": 13,
   "metadata": {
    "collapsed": true
   },
   "outputs": [],
   "source": [
    "def show_hists(x_train, x_test, values_name=''):\n",
    "    fig, axs = plt.subplots(1, 2)\n",
    "    plt.subplots_adjust(wspace=0.6)\n",
    "    \n",
    "    axs[0].hist(x_train)\n",
    "    axs[0].set_xlabel('number of ' + values_name)\n",
    "    axs[0].set_ylabel('frequency')\n",
    "    axs[0].set_title('train set')\n",
    "    \n",
    "    axs[1].hist(x_test)\n",
    "    axs[1].set_xlabel('number of ' + values_name)\n",
    "    axs[1].set_ylabel('frequency')\n",
    "    axs[1].set_title('test set')"
   ]
  },
  {
   "cell_type": "code",
   "execution_count": 14,
   "metadata": {
    "collapsed": true
   },
   "outputs": [],
   "source": [
    "%matplotlib inline\n",
    "import matplotlib.pyplot as plt"
   ]
  },
  {
   "cell_type": "code",
   "execution_count": 15,
   "metadata": {},
   "outputs": [
    {
     "data": {
      "image/png": "[encoded data removed]",
      "text/plain": [
       "<matplotlib.figure.Figure at 0x7f3befb8e590>"
      ]
     },
     "metadata": {},
     "output_type": "display_data"
    }
   ],
   "source": [
    "show_hists(train_comments_lengths_chars, test_comments_lengths_chars, 'chars')"
   ]
  },
  {
   "cell_type": "code",
   "execution_count": 16,
   "metadata": {},
   "outputs": [
    {
     "data": {
      "image/png": "[encoded data removed]",
      "text/plain": [
       "<matplotlib.figure.Figure at 0x7f3be7d9f2d0>"
      ]
     },
     "metadata": {},
     "output_type": "display_data"
    }
   ],
   "source": [
    "show_hists(train_comments_lengths_words, test_comments_lengths_words, 'words')"
   ]
  },
  {
   "cell_type": "markdown",
   "metadata": {},
   "source": [
    "## 3. Data preprocessing"
   ]
  },
  {
   "cell_type": "markdown",
   "metadata": {},
   "source": [
    "### 3.1 Tokenize-filter-lower"
   ]
  },
  {
   "cell_type": "code",
   "execution_count": 17,
   "metadata": {
    "collapsed": true
   },
   "outputs": [],
   "source": [
    "def tokenize_filter_lower(df):\n",
    "    words = list()\n",
    "    n = 0\n",
    "    \n",
    "    for comment in df['comment_text']:\n",
    "        words.append([])        \n",
    "        for word in word_punct_tokenizer.tokenize(comment):\n",
    "            if word.isalpha():\n",
    "                words[n].append(word.lower())\n",
    "        n += 1\n",
    "        \n",
    "    return words"
   ]
  },
  {
   "cell_type": "code",
   "execution_count": 18,
   "metadata": {
    "collapsed": true
   },
   "outputs": [],
   "source": [
    "train_tokens = tokenize_filter_lower(train_df)\n",
    "test_tokens = tokenize_filter_lower(test_df)"
   ]
  },
  {
   "cell_type": "code",
   "execution_count": 19,
   "metadata": {},
   "outputs": [
    {
     "name": "stdout",
     "output_type": "stream",
     "text": [
      "[u'explanation',\n",
      " u'why',\n",
      " u'the',\n",
      " u'edits',\n",
      " u'made',\n",
      " u'under',\n",
      " u'my',\n",
      " u'username',\n",
      " u'hardcore',\n",
      " u'metallica',\n",
      " u'fan',\n",
      " u'were',\n",
      " u'reverted',\n",
      " u'they',\n",
      " u'weren',\n",
      " u't',\n",
      " u'vandalisms',\n",
      " u'just',\n",
      " u'closure',\n",
      " u'on']\n"
     ]
    }
   ],
   "source": [
    "pprint(train_tokens[0][0:20])"
   ]
  },
  {
   "cell_type": "markdown",
   "metadata": {},
   "source": [
    "### 3.2 Lemmatization"
   ]
  },
  {
   "cell_type": "markdown",
   "metadata": {},
   "source": [
    "** Conversion from Penn Treebank tag to a simplified Wordnet tag is taken from ** https://nlpforhackers.io/wordnet-sentence-similarity/"
   ]
  },
  {
   "cell_type": "code",
   "execution_count": 20,
   "metadata": {
    "collapsed": true
   },
   "outputs": [],
   "source": [
    "from nltk import pos_tag\n",
    "from nltk.corpus import wordnet as wn\n",
    "from nltk.stem import WordNetLemmatizer\n",
    "\n",
    "lemmatizer = WordNetLemmatizer()\n",
    "\n",
    "def penn_to_wn(tag):\n",
    "    \"\"\" Convert between a Penn Treebank tag to a simplified Wordnet tag \"\"\"\n",
    "    if tag.startswith('N'):\n",
    "        return 'n'\n",
    " \n",
    "    if tag.startswith('V'):\n",
    "        return 'v'\n",
    " \n",
    "    if tag.startswith('J'):\n",
    "        return 'a'\n",
    " \n",
    "    if tag.startswith('R'):\n",
    "        return 'r'\n",
    " \n",
    "    return 'v'\n",
    "\n",
    "def lemmatization(tokens):   \n",
    "    lemmas = list()\n",
    "    n = 0\n",
    "    pbar = tqdm(total=len(tokens))\n",
    "    \n",
    "    for token_row in tokens:\n",
    "        lemmas.append([])\n",
    "        for token in token_row:\n",
    "            penn_tag = pos_tag([token])[0][1]\n",
    "            wn_tag = penn_to_wn(penn_tag)\n",
    "            lemma = lemmatizer.lemmatize(token, pos=wn_tag)\n",
    "            lemmas[n].append(lemma)\n",
    "        n += 1\n",
    "        if n % 1000 == 0:\n",
    "            pbar.update(1000)\n",
    "    \n",
    "    pbar.update(len(tokens) - 1000 * int(len(tokens)/1000))\n",
    "    pbar.close()    \n",
    "        \n",
    "    return lemmas"
   ]
  },
  {
   "cell_type": "code",
   "execution_count": 21,
   "metadata": {},
   "outputs": [
    {
     "name": "stderr",
     "output_type": "stream",
     "text": [
      "100%|██████████| 159571/159571 [19:35<00:00, 135.52it/s]\n",
      "100%|██████████| 153164/153164 [17:02<00:00, 142.35it/s]\n"
     ]
    }
   ],
   "source": [
    "train_lemmas = lemmatization(train_tokens)\n",
    "test_lemmas = lemmatization(test_tokens)"
   ]
  },
  {
   "cell_type": "code",
   "execution_count": 22,
   "metadata": {},
   "outputs": [
    {
     "data": {
      "text/plain": [
       "[u'explanation',\n",
       " u'why',\n",
       " u'the',\n",
       " u'edits',\n",
       " u'make',\n",
       " u'under',\n",
       " u'my',\n",
       " u'username',\n",
       " u'hardcore',\n",
       " u'metallica',\n",
       " u'fan',\n",
       " u'be',\n",
       " u'revert',\n",
       " u'they',\n",
       " u'weren',\n",
       " u't',\n",
       " u'vandalism',\n",
       " u'just',\n",
       " u'closure',\n",
       " u'on']"
      ]
     },
     "execution_count": 22,
     "metadata": {},
     "output_type": "execute_result"
    }
   ],
   "source": [
    "train_lemmas[0][0:20]"
   ]
  },
  {
   "cell_type": "markdown",
   "metadata": {},
   "source": [
    "### 3.3 Stopwords elimination"
   ]
  },
  {
   "cell_type": "code",
   "execution_count": 23,
   "metadata": {
    "collapsed": true
   },
   "outputs": [],
   "source": [
    "from nltk.corpus import stopwords\n",
    "stopwords_set = set(stopwords.words('english'))\n",
    "\n",
    "def remove_stopwords(tokens):\n",
    "    filtered_tokens = [token for token in tokens if token not in set(stopwords_set)]   \n",
    "    return filtered_tokens\n",
    "\n",
    "def stopwords_elimination(comments):\n",
    "    return [remove_stopwords(comment) for comment in comments]"
   ]
  },
  {
   "cell_type": "code",
   "execution_count": 24,
   "metadata": {},
   "outputs": [],
   "source": [
    "train_preprocessed = stopwords_elimination(train_lemmas)\n",
    "test_preprocessed = stopwords_elimination(test_lemmas)"
   ]
  },
  {
   "cell_type": "code",
   "execution_count": 25,
   "metadata": {},
   "outputs": [
    {
     "name": "stdout",
     "output_type": "stream",
     "text": [
      "[u'explanation',\n",
      " u'edits',\n",
      " u'make',\n",
      " u'username',\n",
      " u'hardcore',\n",
      " u'metallica',\n",
      " u'fan',\n",
      " u'revert',\n",
      " u'vandalism',\n",
      " u'closure',\n",
      " u'gas',\n",
      " u'vote',\n",
      " u'new',\n",
      " u'york',\n",
      " u'doll',\n",
      " u'fac',\n",
      " u'please',\n",
      " u'remove',\n",
      " u'template',\n",
      " u'talk',\n",
      " u'page',\n",
      " u'since',\n",
      " u'retire']\n"
     ]
    }
   ],
   "source": [
    "pprint(train_preprocessed[0])"
   ]
  },
  {
   "cell_type": "code",
   "execution_count": 44,
   "metadata": {
    "collapsed": true
   },
   "outputs": [],
   "source": [
    "import json\n",
    "\n",
    "def save_preprocessed_data(data, set_name):\n",
    "    with open(IN_PATH + set_name, 'w') as fo:\n",
    "        json.dump(data, fo)"
   ]
  },
  {
   "cell_type": "code",
   "execution_count": 45,
   "metadata": {
    "collapsed": true
   },
   "outputs": [],
   "source": [
    "save_preprocessed_data(train_preprocessed, 'train_preprocessed.json')"
   ]
  },
  {
   "cell_type": "code",
   "execution_count": 46,
   "metadata": {},
   "outputs": [],
   "source": [
    "save_preprocessed_data(test_preprocessed, 'test_preprocessed.json')"
   ]
  },
  {
   "cell_type": "markdown",
   "metadata": {},
   "source": [
    "## 4. Training word2vec model\n",
    "A good tutorial can be found here: https://rare-technologies.com/word2vec-tutorial/  \n",
    "Good links:  \n",
    "- https://radimrehurek.com/gensim/models/word2vec.html\n",
    "- http://mccormickml.com/2016/04/19/word2vec-tutorial-the-skip-gram-model/"
   ]
  },
  {
   "cell_type": "code",
   "execution_count": 39,
   "metadata": {
    "collapsed": true
   },
   "outputs": [],
   "source": [
    "import gensim, logging\n",
    "logging.basicConfig(format='%(asctime)s : %(levelname)s : %(message)s', level=logging.INFO)"
   ]
  },
  {
   "cell_type": "code",
   "execution_count": 40,
   "metadata": {
    "collapsed": true
   },
   "outputs": [],
   "source": [
    "model_sg = 0\n",
    "model_size = 200\n",
    "model_min_count = 2\n",
    "model_negative = 5\n",
    "model_window = 5"
   ]
  },
  {
   "cell_type": "code",
   "execution_count": 41,
   "metadata": {},
   "outputs": [
    {
     "name": "stderr",
     "output_type": "stream",
     "text": [
      "2018-05-16 19:28:43,633 : INFO : collecting all words and their counts\n",
      "2018-05-16 19:28:43,634 : INFO : PROGRESS: at sentence #0, processed 0 words, keeping 0 word types\n",
      "2018-05-16 19:28:43,755 : INFO : PROGRESS: at sentence #10000, processed 688925 words, keeping 42375 word types\n",
      "2018-05-16 19:28:43,879 : INFO : PROGRESS: at sentence #20000, processed 1366359 words, keeping 63569 word types\n",
      "2018-05-16 19:28:44,005 : INFO : PROGRESS: at sentence #30000, processed 2030874 words, keeping 80498 word types\n",
      "2018-05-16 19:28:44,134 : INFO : PROGRESS: at sentence #40000, processed 2720130 words, keeping 95520 word types\n",
      "2018-05-16 19:28:44,260 : INFO : PROGRESS: at sentence #50000, processed 3388878 words, keeping 108511 word types\n",
      "2018-05-16 19:28:44,387 : INFO : PROGRESS: at sentence #60000, processed 4092316 words, keeping 121111 word types\n",
      "2018-05-16 19:28:44,520 : INFO : PROGRESS: at sentence #70000, processed 4773127 words, keeping 132764 word types\n",
      "2018-05-16 19:28:44,653 : INFO : PROGRESS: at sentence #80000, processed 5453460 words, keeping 143495 word types\n",
      "2018-05-16 19:28:44,767 : INFO : PROGRESS: at sentence #90000, processed 6115212 words, keeping 153241 word types\n",
      "2018-05-16 19:28:44,879 : INFO : PROGRESS: at sentence #100000, processed 6788915 words, keeping 162820 word types\n",
      "2018-05-16 19:28:45,010 : INFO : PROGRESS: at sentence #110000, processed 7481748 words, keeping 172319 word types\n",
      "2018-05-16 19:28:45,153 : INFO : PROGRESS: at sentence #120000, processed 8137293 words, keeping 181166 word types\n",
      "2018-05-16 19:28:45,286 : INFO : PROGRESS: at sentence #130000, processed 8810209 words, keeping 189625 word types\n",
      "2018-05-16 19:28:45,441 : INFO : PROGRESS: at sentence #140000, processed 9491159 words, keeping 198074 word types\n",
      "2018-05-16 19:28:45,581 : INFO : PROGRESS: at sentence #150000, processed 10174681 words, keeping 206357 word types\n",
      "2018-05-16 19:28:45,715 : INFO : PROGRESS: at sentence #160000, processed 10845492 words, keeping 214459 word types\n",
      "2018-05-16 19:28:45,844 : INFO : PROGRESS: at sentence #170000, processed 11467185 words, keeping 228337 word types\n",
      "2018-05-16 19:28:45,969 : INFO : PROGRESS: at sentence #180000, processed 12084853 words, keeping 242148 word types\n",
      "2018-05-16 19:28:46,085 : INFO : PROGRESS: at sentence #190000, processed 12698247 words, keeping 253686 word types\n",
      "2018-05-16 19:28:46,209 : INFO : PROGRESS: at sentence #200000, processed 13314243 words, keeping 265891 word types\n",
      "2018-05-16 19:28:46,324 : INFO : PROGRESS: at sentence #210000, processed 13917519 words, keeping 278122 word types\n",
      "2018-05-16 19:28:46,446 : INFO : PROGRESS: at sentence #220000, processed 14536158 words, keeping 289113 word types\n",
      "2018-05-16 19:28:46,569 : INFO : PROGRESS: at sentence #230000, processed 15153254 words, keeping 300808 word types\n",
      "2018-05-16 19:28:46,696 : INFO : PROGRESS: at sentence #240000, processed 15768553 words, keeping 314527 word types\n",
      "2018-05-16 19:28:46,809 : INFO : PROGRESS: at sentence #250000, processed 16383145 words, keeping 325494 word types\n",
      "2018-05-16 19:28:46,934 : INFO : PROGRESS: at sentence #260000, processed 16991306 words, keeping 335843 word types\n",
      "2018-05-16 19:28:47,057 : INFO : PROGRESS: at sentence #270000, processed 17600753 words, keeping 345559 word types\n",
      "2018-05-16 19:28:47,198 : INFO : PROGRESS: at sentence #280000, processed 18223573 words, keeping 357035 word types\n",
      "2018-05-16 19:28:47,327 : INFO : PROGRESS: at sentence #290000, processed 18837387 words, keeping 366966 word types\n",
      "2018-05-16 19:28:47,445 : INFO : PROGRESS: at sentence #300000, processed 19438137 words, keeping 376618 word types\n",
      "2018-05-16 19:28:47,568 : INFO : PROGRESS: at sentence #310000, processed 20067528 words, keeping 387186 word types\n",
      "2018-05-16 19:28:47,605 : INFO : collected 390037 word types from a corpus of 20244573 raw words and 312735 sentences\n",
      "2018-05-16 19:28:47,605 : INFO : Loading a fresh vocabulary\n",
      "2018-05-16 19:28:48,019 : INFO : min_count=2 retains 172058 unique words (44% of original 390037, drops 217979)\n",
      "2018-05-16 19:28:48,019 : INFO : min_count=2 leaves 20026594 word corpus (98% of original 20244573, drops 217979)\n",
      "2018-05-16 19:28:48,339 : INFO : deleting the raw counts dictionary of 390037 items\n",
      "2018-05-16 19:28:48,346 : INFO : sample=0.001 downsamples 42 most-common words\n",
      "2018-05-16 19:28:48,347 : INFO : downsampling leaves estimated 15845619 word corpus (79.1% of prior 20026594)\n",
      "2018-05-16 19:28:48,768 : INFO : estimated required memory for 172058 words and 200 dimensions: 361321800 bytes\n",
      "2018-05-16 19:28:48,768 : INFO : resetting layer weights\n",
      "2018-05-16 19:28:50,199 : INFO : training model with 5 workers on 172058 vocabulary and 200 features, using sg=0 hs=0 sample=0.001 negative=5 window=5\n",
      "2018-05-16 19:28:51,208 : INFO : EPOCH 1 - PROGRESS: at 5.91% examples, 991348 words/s, in_qsize 9, out_qsize 1\n",
      "2018-05-16 19:28:52,203 : INFO : EPOCH 1 - PROGRESS: at 11.97% examples, 994122 words/s, in_qsize 9, out_qsize 0\n",
      "2018-05-16 19:28:53,213 : INFO : EPOCH 1 - PROGRESS: at 18.62% examples, 1030280 words/s, in_qsize 9, out_qsize 0\n",
      "2018-05-16 19:28:54,219 : INFO : EPOCH 1 - PROGRESS: at 25.37% examples, 1051430 words/s, in_qsize 9, out_qsize 0\n",
      "2018-05-16 19:28:55,229 : INFO : EPOCH 1 - PROGRESS: at 31.76% examples, 1048033 words/s, in_qsize 10, out_qsize 0\n",
      "2018-05-16 19:28:56,231 : INFO : EPOCH 1 - PROGRESS: at 37.97% examples, 1043800 words/s, in_qsize 9, out_qsize 0\n",
      "2018-05-16 19:28:57,252 : INFO : EPOCH 1 - PROGRESS: at 43.20% examples, 1014113 words/s, in_qsize 10, out_qsize 0\n",
      "2018-05-16 19:28:58,254 : INFO : EPOCH 1 - PROGRESS: at 48.21% examples, 992032 words/s, in_qsize 9, out_qsize 0\n",
      "2018-05-16 19:28:59,263 : INFO : EPOCH 1 - PROGRESS: at 53.55% examples, 974576 words/s, in_qsize 9, out_qsize 0\n",
      "2018-05-16 19:29:00,271 : INFO : EPOCH 1 - PROGRESS: at 60.63% examples, 983825 words/s, in_qsize 10, out_qsize 0\n",
      "2018-05-16 19:29:01,272 : INFO : EPOCH 1 - PROGRESS: at 67.71% examples, 990760 words/s, in_qsize 9, out_qsize 0\n",
      "2018-05-16 19:29:02,275 : INFO : EPOCH 1 - PROGRESS: at 73.87% examples, 985364 words/s, in_qsize 10, out_qsize 0\n",
      "2018-05-16 19:29:03,281 : INFO : EPOCH 1 - PROGRESS: at 80.78% examples, 989432 words/s, in_qsize 8, out_qsize 1\n",
      "2018-05-16 19:29:04,292 : INFO : EPOCH 1 - PROGRESS: at 87.22% examples, 986699 words/s, in_qsize 9, out_qsize 1\n",
      "2018-05-16 19:29:05,297 : INFO : EPOCH 1 - PROGRESS: at 91.82% examples, 967603 words/s, in_qsize 9, out_qsize 0\n",
      "2018-05-16 19:29:06,305 : INFO : EPOCH 1 - PROGRESS: at 97.72% examples, 962002 words/s, in_qsize 9, out_qsize 1\n",
      "2018-05-16 19:29:06,612 : INFO : worker thread finished; awaiting finish of 4 more threads\n",
      "2018-05-16 19:29:06,614 : INFO : worker thread finished; awaiting finish of 3 more threads\n",
      "2018-05-16 19:29:06,620 : INFO : worker thread finished; awaiting finish of 2 more threads\n",
      "2018-05-16 19:29:06,630 : INFO : worker thread finished; awaiting finish of 1 more threads\n",
      "2018-05-16 19:29:06,631 : INFO : worker thread finished; awaiting finish of 0 more threads\n",
      "2018-05-16 19:29:06,631 : INFO : EPOCH - 1 : training on 20244573 raw words (15849132 effective words) took 16.4s, 964690 effective words/s\n",
      "2018-05-16 19:29:07,635 : INFO : EPOCH 2 - PROGRESS: at 6.59% examples, 1096361 words/s, in_qsize 8, out_qsize 1\n",
      "2018-05-16 19:29:08,643 : INFO : EPOCH 2 - PROGRESS: at 13.43% examples, 1108700 words/s, in_qsize 9, out_qsize 0\n",
      "2018-05-16 19:29:09,645 : INFO : EPOCH 2 - PROGRESS: at 19.91% examples, 1102125 words/s, in_qsize 10, out_qsize 0\n",
      "2018-05-16 19:29:10,646 : INFO : EPOCH 2 - PROGRESS: at 26.50% examples, 1099133 words/s, in_qsize 9, out_qsize 1\n",
      "2018-05-16 19:29:11,658 : INFO : EPOCH 2 - PROGRESS: at 33.33% examples, 1100669 words/s, in_qsize 9, out_qsize 0\n",
      "2018-05-16 19:29:12,659 : INFO : EPOCH 2 - PROGRESS: at 40.16% examples, 1103297 words/s, in_qsize 9, out_qsize 0\n",
      "2018-05-16 19:29:13,679 : INFO : EPOCH 2 - PROGRESS: at 46.52% examples, 1095625 words/s, in_qsize 10, out_qsize 2\n",
      "2018-05-16 19:29:14,664 : INFO : EPOCH 2 - PROGRESS: at 53.49% examples, 1098537 words/s, in_qsize 9, out_qsize 0\n",
      "2018-05-16 19:29:15,670 : INFO : EPOCH 2 - PROGRESS: at 60.68% examples, 1096794 words/s, in_qsize 10, out_qsize 1\n",
      "2018-05-16 19:29:16,675 : INFO : EPOCH 2 - PROGRESS: at 67.98% examples, 1096570 words/s, in_qsize 9, out_qsize 0\n"
     ]
    },
    {
     "name": "stderr",
     "output_type": "stream",
     "text": [
      "2018-05-16 19:29:17,680 : INFO : EPOCH 2 - PROGRESS: at 75.54% examples, 1099967 words/s, in_qsize 9, out_qsize 0\n",
      "2018-05-16 19:29:18,687 : INFO : EPOCH 2 - PROGRESS: at 83.07% examples, 1101711 words/s, in_qsize 9, out_qsize 0\n",
      "2018-05-16 19:29:19,687 : INFO : EPOCH 2 - PROGRESS: at 90.22% examples, 1100408 words/s, in_qsize 8, out_qsize 0\n",
      "2018-05-16 19:29:20,691 : INFO : EPOCH 2 - PROGRESS: at 97.66% examples, 1101247 words/s, in_qsize 9, out_qsize 0\n",
      "2018-05-16 19:29:20,987 : INFO : worker thread finished; awaiting finish of 4 more threads\n",
      "2018-05-16 19:29:20,994 : INFO : worker thread finished; awaiting finish of 3 more threads\n",
      "2018-05-16 19:29:20,996 : INFO : worker thread finished; awaiting finish of 2 more threads\n",
      "2018-05-16 19:29:21,000 : INFO : worker thread finished; awaiting finish of 1 more threads\n",
      "2018-05-16 19:29:21,001 : INFO : worker thread finished; awaiting finish of 0 more threads\n",
      "2018-05-16 19:29:21,002 : INFO : EPOCH - 2 : training on 20244573 raw words (15846451 effective words) took 14.4s, 1102859 effective words/s\n",
      "2018-05-16 19:29:22,016 : INFO : EPOCH 3 - PROGRESS: at 6.69% examples, 1110852 words/s, in_qsize 10, out_qsize 0\n",
      "2018-05-16 19:29:23,018 : INFO : EPOCH 3 - PROGRESS: at 13.39% examples, 1107773 words/s, in_qsize 8, out_qsize 0\n",
      "2018-05-16 19:29:24,014 : INFO : EPOCH 3 - PROGRESS: at 19.99% examples, 1109179 words/s, in_qsize 9, out_qsize 1\n",
      "2018-05-16 19:29:25,026 : INFO : EPOCH 3 - PROGRESS: at 26.93% examples, 1116619 words/s, in_qsize 9, out_qsize 0\n",
      "2018-05-16 19:29:26,024 : INFO : EPOCH 3 - PROGRESS: at 33.69% examples, 1114606 words/s, in_qsize 9, out_qsize 0\n",
      "2018-05-16 19:29:27,033 : INFO : EPOCH 3 - PROGRESS: at 40.61% examples, 1115989 words/s, in_qsize 9, out_qsize 1\n",
      "2018-05-16 19:29:28,038 : INFO : EPOCH 3 - PROGRESS: at 47.45% examples, 1117216 words/s, in_qsize 9, out_qsize 1\n",
      "2018-05-16 19:29:29,048 : INFO : EPOCH 3 - PROGRESS: at 54.40% examples, 1114535 words/s, in_qsize 10, out_qsize 0\n",
      "2018-05-16 19:29:30,055 : INFO : EPOCH 3 - PROGRESS: at 61.84% examples, 1114386 words/s, in_qsize 10, out_qsize 0\n",
      "2018-05-16 19:29:31,063 : INFO : EPOCH 3 - PROGRESS: at 69.31% examples, 1114969 words/s, in_qsize 8, out_qsize 0\n",
      "2018-05-16 19:29:32,070 : INFO : EPOCH 3 - PROGRESS: at 76.75% examples, 1114548 words/s, in_qsize 9, out_qsize 0\n",
      "2018-05-16 19:29:33,086 : INFO : EPOCH 3 - PROGRESS: at 84.45% examples, 1117174 words/s, in_qsize 8, out_qsize 0\n",
      "2018-05-16 19:29:34,074 : INFO : EPOCH 3 - PROGRESS: at 91.71% examples, 1116377 words/s, in_qsize 9, out_qsize 0\n",
      "2018-05-16 19:29:35,075 : INFO : EPOCH 3 - PROGRESS: at 99.08% examples, 1115986 words/s, in_qsize 10, out_qsize 0\n",
      "2018-05-16 19:29:35,174 : INFO : worker thread finished; awaiting finish of 4 more threads\n",
      "2018-05-16 19:29:35,176 : INFO : worker thread finished; awaiting finish of 3 more threads\n",
      "2018-05-16 19:29:35,184 : INFO : worker thread finished; awaiting finish of 2 more threads\n",
      "2018-05-16 19:29:35,192 : INFO : worker thread finished; awaiting finish of 1 more threads\n",
      "2018-05-16 19:29:35,192 : INFO : worker thread finished; awaiting finish of 0 more threads\n",
      "2018-05-16 19:29:35,193 : INFO : EPOCH - 3 : training on 20244573 raw words (15845572 effective words) took 14.2s, 1117047 effective words/s\n",
      "2018-05-16 19:29:36,200 : INFO : EPOCH 4 - PROGRESS: at 6.69% examples, 1112692 words/s, in_qsize 8, out_qsize 0\n",
      "2018-05-16 19:29:37,204 : INFO : EPOCH 4 - PROGRESS: at 12.53% examples, 1038052 words/s, in_qsize 10, out_qsize 0\n",
      "2018-05-16 19:29:38,208 : INFO : EPOCH 4 - PROGRESS: at 18.63% examples, 1030905 words/s, in_qsize 10, out_qsize 0\n",
      "2018-05-16 19:29:39,212 : INFO : EPOCH 4 - PROGRESS: at 24.30% examples, 1008281 words/s, in_qsize 10, out_qsize 0\n",
      "2018-05-16 19:29:40,219 : INFO : EPOCH 4 - PROGRESS: at 31.19% examples, 1030768 words/s, in_qsize 9, out_qsize 0\n",
      "2018-05-16 19:29:41,222 : INFO : EPOCH 4 - PROGRESS: at 37.97% examples, 1044543 words/s, in_qsize 9, out_qsize 0\n",
      "2018-05-16 19:29:42,222 : INFO : EPOCH 4 - PROGRESS: at 44.66% examples, 1052578 words/s, in_qsize 10, out_qsize 1\n",
      "2018-05-16 19:29:43,235 : INFO : EPOCH 4 - PROGRESS: at 51.67% examples, 1063045 words/s, in_qsize 8, out_qsize 1\n",
      "2018-05-16 19:29:44,235 : INFO : EPOCH 4 - PROGRESS: at 59.19% examples, 1070605 words/s, in_qsize 9, out_qsize 1\n",
      "2018-05-16 19:29:45,247 : INFO : EPOCH 4 - PROGRESS: at 66.76% examples, 1077349 words/s, in_qsize 9, out_qsize 0\n",
      "2018-05-16 19:29:46,246 : INFO : EPOCH 4 - PROGRESS: at 74.14% examples, 1080677 words/s, in_qsize 9, out_qsize 0\n",
      "2018-05-16 19:29:47,244 : INFO : EPOCH 4 - PROGRESS: at 81.39% examples, 1081716 words/s, in_qsize 9, out_qsize 0\n",
      "2018-05-16 19:29:48,251 : INFO : EPOCH 4 - PROGRESS: at 88.90% examples, 1084915 words/s, in_qsize 9, out_qsize 0\n",
      "2018-05-16 19:29:49,254 : INFO : EPOCH 4 - PROGRESS: at 96.28% examples, 1085879 words/s, in_qsize 10, out_qsize 0\n",
      "2018-05-16 19:29:49,735 : INFO : worker thread finished; awaiting finish of 4 more threads\n",
      "2018-05-16 19:29:49,737 : INFO : worker thread finished; awaiting finish of 3 more threads\n",
      "2018-05-16 19:29:49,749 : INFO : worker thread finished; awaiting finish of 2 more threads\n",
      "2018-05-16 19:29:49,750 : INFO : worker thread finished; awaiting finish of 1 more threads\n",
      "2018-05-16 19:29:49,755 : INFO : worker thread finished; awaiting finish of 0 more threads\n",
      "2018-05-16 19:29:49,755 : INFO : EPOCH - 4 : training on 20244573 raw words (15845296 effective words) took 14.6s, 1088532 effective words/s\n",
      "2018-05-16 19:29:50,776 : INFO : EPOCH 5 - PROGRESS: at 6.54% examples, 1074379 words/s, in_qsize 9, out_qsize 1\n",
      "2018-05-16 19:29:51,789 : INFO : EPOCH 5 - PROGRESS: at 13.53% examples, 1109450 words/s, in_qsize 10, out_qsize 0\n",
      "2018-05-16 19:29:52,787 : INFO : EPOCH 5 - PROGRESS: at 20.06% examples, 1107115 words/s, in_qsize 9, out_qsize 0\n",
      "2018-05-16 19:29:53,790 : INFO : EPOCH 5 - PROGRESS: at 26.97% examples, 1113991 words/s, in_qsize 9, out_qsize 0\n",
      "2018-05-16 19:29:54,801 : INFO : EPOCH 5 - PROGRESS: at 33.83% examples, 1114366 words/s, in_qsize 10, out_qsize 0\n",
      "2018-05-16 19:29:55,816 : INFO : EPOCH 5 - PROGRESS: at 40.76% examples, 1115763 words/s, in_qsize 10, out_qsize 1\n",
      "2018-05-16 19:29:56,809 : INFO : EPOCH 5 - PROGRESS: at 47.63% examples, 1119066 words/s, in_qsize 10, out_qsize 1\n",
      "2018-05-16 19:29:57,818 : INFO : EPOCH 5 - PROGRESS: at 54.67% examples, 1118418 words/s, in_qsize 9, out_qsize 0\n",
      "2018-05-16 19:29:58,814 : INFO : EPOCH 5 - PROGRESS: at 62.10% examples, 1118084 words/s, in_qsize 10, out_qsize 1\n",
      "2018-05-16 19:29:59,816 : INFO : EPOCH 5 - PROGRESS: at 69.54% examples, 1118267 words/s, in_qsize 9, out_qsize 0\n",
      "2018-05-16 19:30:00,830 : INFO : EPOCH 5 - PROGRESS: at 76.99% examples, 1117497 words/s, in_qsize 10, out_qsize 0\n",
      "2018-05-16 19:30:01,839 : INFO : EPOCH 5 - PROGRESS: at 84.54% examples, 1117385 words/s, in_qsize 9, out_qsize 0\n",
      "2018-05-16 19:30:02,840 : INFO : EPOCH 5 - PROGRESS: at 91.98% examples, 1118329 words/s, in_qsize 9, out_qsize 0\n",
      "2018-05-16 19:30:03,844 : INFO : EPOCH 5 - PROGRESS: at 99.40% examples, 1118033 words/s, in_qsize 10, out_qsize 0\n",
      "2018-05-16 19:30:03,906 : INFO : worker thread finished; awaiting finish of 4 more threads\n",
      "2018-05-16 19:30:03,911 : INFO : worker thread finished; awaiting finish of 3 more threads\n",
      "2018-05-16 19:30:03,913 : INFO : worker thread finished; awaiting finish of 2 more threads\n",
      "2018-05-16 19:30:03,918 : INFO : worker thread finished; awaiting finish of 1 more threads\n",
      "2018-05-16 19:30:03,919 : INFO : worker thread finished; awaiting finish of 0 more threads\n",
      "2018-05-16 19:30:03,920 : INFO : EPOCH - 5 : training on 20244573 raw words (15845214 effective words) took 14.2s, 1119124 effective words/s\n",
      "2018-05-16 19:30:03,920 : INFO : training on a 101222865 raw words (79231665 effective words) took 73.7s, 1074756 effective words/s\n"
     ]
    }
   ],
   "source": [
    "model = gensim.models.Word2Vec(train_comment_words + test_comment_words, sg=model_sg, size=model_size, \n",
    "                               min_count=model_min_count,\n",
    "                               negative=model_negative, window=model_window,\n",
    "                               workers=5)"
   ]
  },
  {
   "cell_type": "code",
   "execution_count": 42,
   "metadata": {},
   "outputs": [
    {
     "name": "stderr",
     "output_type": "stream",
     "text": [
      "2018-05-16 19:33:22,909 : INFO : saving Word2Vec object under ../word_embeddings/model_4/model_sg_0_size_200_min_count_2_negative_5_window_5, separately None\n",
      "2018-05-16 19:33:22,910 : INFO : storing np array 'vectors' to ../word_embeddings/model_4/model_sg_0_size_200_min_count_2_negative_5_window_5.wv.vectors.npy\n",
      "2018-05-16 19:33:23,379 : INFO : not storing attribute vectors_norm\n",
      "2018-05-16 19:33:23,379 : INFO : storing np array 'syn1neg' to ../word_embeddings/model_4/model_sg_0_size_200_min_count_2_negative_5_window_5.trainables.syn1neg.npy\n",
      "2018-05-16 19:33:23,844 : INFO : not storing attribute cum_table\n",
      "2018-05-16 19:33:26,389 : INFO : saved ../word_embeddings/model_4/model_sg_0_size_200_min_count_2_negative_5_window_5\n"
     ]
    }
   ],
   "source": [
    "model.save('{}model_4/model_sg_{}_size_{}_min_count_{}_negative_{}_window_{}'.format(WORD_EMBEDDINGS_PATH, \n",
    "                                                                             model_sg, model_size,\n",
    "                                                                             model_min_count,\n",
    "                                                                             model_negative,\n",
    "                                                                             model_window))"
   ]
  },
  {
   "cell_type": "code",
   "execution_count": null,
   "metadata": {
    "collapsed": true
   },
   "outputs": [],
   "source": []
  }
 ],
 "metadata": {
  "kernelspec": {
   "display_name": "Python 2",
   "language": "python",
   "name": "python2"
  },
  "language_info": {
   "codemirror_mode": {
    "name": "ipython",
    "version": 2
   },
   "file_extension": ".py",
   "mimetype": "text/x-python",
   "name": "python",
   "nbconvert_exporter": "python",
   "pygments_lexer": "ipython2",
   "version": "2.7.14"
  }
 },
 "nbformat": 4,
 "nbformat_minor": 2
}
